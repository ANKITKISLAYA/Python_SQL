{
 "cells": [
  {
   "cell_type": "code",
   "execution_count": 1,
   "metadata": {},
   "outputs": [],
   "source": [
    "import pandas as pd\n",
    "import sqlalchemy as sa\n",
    "import matplotlib.pyplot as plt\n",
    "import tabpy_client "
   ]
  },
  {
   "cell_type": "code",
   "execution_count": null,
   "metadata": {},
   "outputs": [],
   "source": []
  },
  {
   "cell_type": "code",
   "execution_count": 2,
   "metadata": {},
   "outputs": [],
   "source": [
    "engine = sa.create_engine('mssql+pyodbc://sa:sa@123@SKPC-30')\n"
   ]
  },
  {
   "cell_type": "code",
   "execution_count": 3,
   "metadata": {},
   "outputs": [],
   "source": [
    "month='5'\n",
    "year='2019'\n",
    "warehouseid='1'"
   ]
  },
  {
   "cell_type": "code",
   "execution_count": 4,
   "metadata": {},
   "outputs": [],
   "source": [
    "sql = '''\\\n",
    "            exec GetLabelCustomerDetail 5,2019,1\n",
    "'''"
   ]
  },
  {
   "cell_type": "code",
   "execution_count": null,
   "metadata": {},
   "outputs": [],
   "source": []
  },
  {
   "cell_type": "code",
   "execution_count": 5,
   "metadata": {},
   "outputs": [],
   "source": [
    "sql2 = '''\\\n",
    "            exec GetLabelCustomerDetail {month},{year},{warehouseid}\n",
    "'''"
   ]
  },
  {
   "cell_type": "code",
   "execution_count": 6,
   "metadata": {},
   "outputs": [
    {
     "data": {
      "text/html": [
       "<div>\n",
       "<style scoped>\n",
       "    .dataframe tbody tr th:only-of-type {\n",
       "        vertical-align: middle;\n",
       "    }\n",
       "\n",
       "    .dataframe tbody tr th {\n",
       "        vertical-align: top;\n",
       "    }\n",
       "\n",
       "    .dataframe thead th {\n",
       "        text-align: right;\n",
       "    }\n",
       "</style>\n",
       "<table border=\"1\" class=\"dataframe\">\n",
       "  <thead>\n",
       "    <tr style=\"text-align: right;\">\n",
       "      <th></th>\n",
       "      <th>Skcode</th>\n",
       "      <th>nooforder</th>\n",
       "      <th>noofbrand</th>\n",
       "      <th>Totalvolume</th>\n",
       "      <th>KKvolume</th>\n",
       "      <th>SalesPersonPercentageorder</th>\n",
       "      <th>SelforderPercentage</th>\n",
       "      <th>active</th>\n",
       "    </tr>\n",
       "  </thead>\n",
       "  <tbody>\n",
       "    <tr>\n",
       "      <th>0</th>\n",
       "      <td>SK10009</td>\n",
       "      <td>0</td>\n",
       "      <td>0</td>\n",
       "      <td>0.000</td>\n",
       "      <td>0.0</td>\n",
       "      <td>0</td>\n",
       "      <td>0</td>\n",
       "      <td>True</td>\n",
       "    </tr>\n",
       "    <tr>\n",
       "      <th>1</th>\n",
       "      <td>SK10021</td>\n",
       "      <td>0</td>\n",
       "      <td>0</td>\n",
       "      <td>0.000</td>\n",
       "      <td>0.0</td>\n",
       "      <td>0</td>\n",
       "      <td>0</td>\n",
       "      <td>True</td>\n",
       "    </tr>\n",
       "    <tr>\n",
       "      <th>2</th>\n",
       "      <td>SK10030</td>\n",
       "      <td>1</td>\n",
       "      <td>9</td>\n",
       "      <td>10586.018</td>\n",
       "      <td>0.0</td>\n",
       "      <td>100</td>\n",
       "      <td>0</td>\n",
       "      <td>True</td>\n",
       "    </tr>\n",
       "    <tr>\n",
       "      <th>3</th>\n",
       "      <td>SK10037</td>\n",
       "      <td>1</td>\n",
       "      <td>7</td>\n",
       "      <td>14460.112</td>\n",
       "      <td>0.0</td>\n",
       "      <td>100</td>\n",
       "      <td>0</td>\n",
       "      <td>True</td>\n",
       "    </tr>\n",
       "    <tr>\n",
       "      <th>4</th>\n",
       "      <td>SK10041</td>\n",
       "      <td>0</td>\n",
       "      <td>0</td>\n",
       "      <td>0.000</td>\n",
       "      <td>0.0</td>\n",
       "      <td>0</td>\n",
       "      <td>0</td>\n",
       "      <td>True</td>\n",
       "    </tr>\n",
       "  </tbody>\n",
       "</table>\n",
       "</div>"
      ],
      "text/plain": [
       "    Skcode  nooforder  noofbrand  Totalvolume  KKvolume  \\\n",
       "0  SK10009          0          0        0.000       0.0   \n",
       "1  SK10021          0          0        0.000       0.0   \n",
       "2  SK10030          1          9    10586.018       0.0   \n",
       "3  SK10037          1          7    14460.112       0.0   \n",
       "4  SK10041          0          0        0.000       0.0   \n",
       "\n",
       "   SalesPersonPercentageorder  SelforderPercentage  active  \n",
       "0                           0                    0    True  \n",
       "1                           0                    0    True  \n",
       "2                         100                    0    True  \n",
       "3                         100                    0    True  \n",
       "4                           0                    0    True  "
      ]
     },
     "execution_count": 6,
     "metadata": {},
     "output_type": "execute_result"
    }
   ],
   "source": [
    "df=pd.read_sql_query(sql,engine)\n",
    "df.head()"
   ]
  },
  {
   "cell_type": "code",
   "execution_count": null,
   "metadata": {},
   "outputs": [],
   "source": []
  },
  {
   "cell_type": "code",
   "execution_count": null,
   "metadata": {},
   "outputs": [],
   "source": []
  },
  {
   "cell_type": "code",
   "execution_count": null,
   "metadata": {},
   "outputs": [],
   "source": []
  },
  {
   "cell_type": "code",
   "execution_count": null,
   "metadata": {},
   "outputs": [],
   "source": []
  },
  {
   "cell_type": "code",
   "execution_count": null,
   "metadata": {},
   "outputs": [],
   "source": []
  },
  {
   "cell_type": "code",
   "execution_count": null,
   "metadata": {},
   "outputs": [],
   "source": []
  },
  {
   "cell_type": "code",
   "execution_count": null,
   "metadata": {},
   "outputs": [],
   "source": []
  },
  {
   "cell_type": "code",
   "execution_count": null,
   "metadata": {},
   "outputs": [],
   "source": []
  },
  {
   "cell_type": "code",
   "execution_count": null,
   "metadata": {},
   "outputs": [],
   "source": []
  },
  {
   "cell_type": "code",
   "execution_count": null,
   "metadata": {},
   "outputs": [],
   "source": []
  },
  {
   "cell_type": "code",
   "execution_count": 7,
   "metadata": {},
   "outputs": [],
   "source": [
    "df_MAY = df.copy()"
   ]
  },
  {
   "cell_type": "code",
   "execution_count": 8,
   "metadata": {},
   "outputs": [
    {
     "data": {
      "text/html": [
       "<div>\n",
       "<style scoped>\n",
       "    .dataframe tbody tr th:only-of-type {\n",
       "        vertical-align: middle;\n",
       "    }\n",
       "\n",
       "    .dataframe tbody tr th {\n",
       "        vertical-align: top;\n",
       "    }\n",
       "\n",
       "    .dataframe thead th {\n",
       "        text-align: right;\n",
       "    }\n",
       "</style>\n",
       "<table border=\"1\" class=\"dataframe\">\n",
       "  <thead>\n",
       "    <tr style=\"text-align: right;\">\n",
       "      <th></th>\n",
       "      <th>Skcode</th>\n",
       "      <th>nooforder</th>\n",
       "      <th>noofbrand</th>\n",
       "      <th>Totalvolume</th>\n",
       "      <th>KKvolume</th>\n",
       "      <th>SalesPersonPercentageorder</th>\n",
       "      <th>SelforderPercentage</th>\n",
       "      <th>active</th>\n",
       "    </tr>\n",
       "  </thead>\n",
       "  <tbody>\n",
       "    <tr>\n",
       "      <th>0</th>\n",
       "      <td>SK10009</td>\n",
       "      <td>0</td>\n",
       "      <td>0</td>\n",
       "      <td>0.000</td>\n",
       "      <td>0.0</td>\n",
       "      <td>0</td>\n",
       "      <td>0</td>\n",
       "      <td>True</td>\n",
       "    </tr>\n",
       "    <tr>\n",
       "      <th>1</th>\n",
       "      <td>SK10021</td>\n",
       "      <td>0</td>\n",
       "      <td>0</td>\n",
       "      <td>0.000</td>\n",
       "      <td>0.0</td>\n",
       "      <td>0</td>\n",
       "      <td>0</td>\n",
       "      <td>True</td>\n",
       "    </tr>\n",
       "    <tr>\n",
       "      <th>2</th>\n",
       "      <td>SK10030</td>\n",
       "      <td>1</td>\n",
       "      <td>9</td>\n",
       "      <td>10586.018</td>\n",
       "      <td>0.0</td>\n",
       "      <td>100</td>\n",
       "      <td>0</td>\n",
       "      <td>True</td>\n",
       "    </tr>\n",
       "    <tr>\n",
       "      <th>3</th>\n",
       "      <td>SK10037</td>\n",
       "      <td>1</td>\n",
       "      <td>7</td>\n",
       "      <td>14460.112</td>\n",
       "      <td>0.0</td>\n",
       "      <td>100</td>\n",
       "      <td>0</td>\n",
       "      <td>True</td>\n",
       "    </tr>\n",
       "    <tr>\n",
       "      <th>4</th>\n",
       "      <td>SK10041</td>\n",
       "      <td>0</td>\n",
       "      <td>0</td>\n",
       "      <td>0.000</td>\n",
       "      <td>0.0</td>\n",
       "      <td>0</td>\n",
       "      <td>0</td>\n",
       "      <td>True</td>\n",
       "    </tr>\n",
       "  </tbody>\n",
       "</table>\n",
       "</div>"
      ],
      "text/plain": [
       "    Skcode  nooforder  noofbrand  Totalvolume  KKvolume  \\\n",
       "0  SK10009          0          0        0.000       0.0   \n",
       "1  SK10021          0          0        0.000       0.0   \n",
       "2  SK10030          1          9    10586.018       0.0   \n",
       "3  SK10037          1          7    14460.112       0.0   \n",
       "4  SK10041          0          0        0.000       0.0   \n",
       "\n",
       "   SalesPersonPercentageorder  SelforderPercentage  active  \n",
       "0                           0                    0    True  \n",
       "1                           0                    0    True  \n",
       "2                         100                    0    True  \n",
       "3                         100                    0    True  \n",
       "4                           0                    0    True  "
      ]
     },
     "execution_count": 8,
     "metadata": {},
     "output_type": "execute_result"
    }
   ],
   "source": [
    "df_MAY.head()"
   ]
  },
  {
   "cell_type": "code",
   "execution_count": null,
   "metadata": {},
   "outputs": [],
   "source": []
  },
  {
   "cell_type": "code",
   "execution_count": null,
   "metadata": {},
   "outputs": [],
   "source": []
  },
  {
   "cell_type": "markdown",
   "metadata": {},
   "source": [
    "## VISUALIZATION"
   ]
  },
  {
   "cell_type": "code",
   "execution_count": null,
   "metadata": {},
   "outputs": [],
   "source": []
  },
  {
   "cell_type": "code",
   "execution_count": 9,
   "metadata": {},
   "outputs": [
    {
     "data": {
      "text/html": [
       "<div>\n",
       "<style scoped>\n",
       "    .dataframe tbody tr th:only-of-type {\n",
       "        vertical-align: middle;\n",
       "    }\n",
       "\n",
       "    .dataframe tbody tr th {\n",
       "        vertical-align: top;\n",
       "    }\n",
       "\n",
       "    .dataframe thead th {\n",
       "        text-align: right;\n",
       "    }\n",
       "</style>\n",
       "<table border=\"1\" class=\"dataframe\">\n",
       "  <thead>\n",
       "    <tr style=\"text-align: right;\">\n",
       "      <th></th>\n",
       "      <th>Skcode</th>\n",
       "      <th>nooforder</th>\n",
       "      <th>noofbrand</th>\n",
       "      <th>Totalvolume</th>\n",
       "      <th>KKvolume</th>\n",
       "      <th>SalesPersonPercentageorder</th>\n",
       "      <th>SelforderPercentage</th>\n",
       "      <th>active</th>\n",
       "    </tr>\n",
       "  </thead>\n",
       "  <tbody>\n",
       "    <tr>\n",
       "      <th>0</th>\n",
       "      <td>SK10009</td>\n",
       "      <td>0</td>\n",
       "      <td>0</td>\n",
       "      <td>0.000</td>\n",
       "      <td>0.0</td>\n",
       "      <td>0</td>\n",
       "      <td>0</td>\n",
       "      <td>True</td>\n",
       "    </tr>\n",
       "    <tr>\n",
       "      <th>1</th>\n",
       "      <td>SK10021</td>\n",
       "      <td>0</td>\n",
       "      <td>0</td>\n",
       "      <td>0.000</td>\n",
       "      <td>0.0</td>\n",
       "      <td>0</td>\n",
       "      <td>0</td>\n",
       "      <td>True</td>\n",
       "    </tr>\n",
       "    <tr>\n",
       "      <th>2</th>\n",
       "      <td>SK10030</td>\n",
       "      <td>1</td>\n",
       "      <td>9</td>\n",
       "      <td>10586.018</td>\n",
       "      <td>0.0</td>\n",
       "      <td>100</td>\n",
       "      <td>0</td>\n",
       "      <td>True</td>\n",
       "    </tr>\n",
       "    <tr>\n",
       "      <th>3</th>\n",
       "      <td>SK10037</td>\n",
       "      <td>1</td>\n",
       "      <td>7</td>\n",
       "      <td>14460.112</td>\n",
       "      <td>0.0</td>\n",
       "      <td>100</td>\n",
       "      <td>0</td>\n",
       "      <td>True</td>\n",
       "    </tr>\n",
       "    <tr>\n",
       "      <th>4</th>\n",
       "      <td>SK10041</td>\n",
       "      <td>0</td>\n",
       "      <td>0</td>\n",
       "      <td>0.000</td>\n",
       "      <td>0.0</td>\n",
       "      <td>0</td>\n",
       "      <td>0</td>\n",
       "      <td>True</td>\n",
       "    </tr>\n",
       "  </tbody>\n",
       "</table>\n",
       "</div>"
      ],
      "text/plain": [
       "    Skcode  nooforder  noofbrand  Totalvolume  KKvolume  \\\n",
       "0  SK10009          0          0        0.000       0.0   \n",
       "1  SK10021          0          0        0.000       0.0   \n",
       "2  SK10030          1          9    10586.018       0.0   \n",
       "3  SK10037          1          7    14460.112       0.0   \n",
       "4  SK10041          0          0        0.000       0.0   \n",
       "\n",
       "   SalesPersonPercentageorder  SelforderPercentage  active  \n",
       "0                           0                    0    True  \n",
       "1                           0                    0    True  \n",
       "2                         100                    0    True  \n",
       "3                         100                    0    True  \n",
       "4                           0                    0    True  "
      ]
     },
     "execution_count": 9,
     "metadata": {},
     "output_type": "execute_result"
    }
   ],
   "source": [
    "df_MAY.head()"
   ]
  },
  {
   "cell_type": "code",
   "execution_count": null,
   "metadata": {},
   "outputs": [],
   "source": []
  },
  {
   "cell_type": "code",
   "execution_count": null,
   "metadata": {},
   "outputs": [],
   "source": []
  },
  {
   "cell_type": "markdown",
   "metadata": {},
   "source": [
    "## total volume purchased over month"
   ]
  },
  {
   "cell_type": "code",
   "execution_count": null,
   "metadata": {},
   "outputs": [],
   "source": []
  },
  {
   "cell_type": "code",
   "execution_count": 10,
   "metadata": {},
   "outputs": [],
   "source": [
    "df_to_vol=df_MAY[['Skcode','Totalvolume']].copy()"
   ]
  },
  {
   "cell_type": "code",
   "execution_count": 11,
   "metadata": {},
   "outputs": [
    {
     "data": {
      "text/html": [
       "<div>\n",
       "<style scoped>\n",
       "    .dataframe tbody tr th:only-of-type {\n",
       "        vertical-align: middle;\n",
       "    }\n",
       "\n",
       "    .dataframe tbody tr th {\n",
       "        vertical-align: top;\n",
       "    }\n",
       "\n",
       "    .dataframe thead th {\n",
       "        text-align: right;\n",
       "    }\n",
       "</style>\n",
       "<table border=\"1\" class=\"dataframe\">\n",
       "  <thead>\n",
       "    <tr style=\"text-align: right;\">\n",
       "      <th></th>\n",
       "      <th>Skcode</th>\n",
       "      <th>Totalvolume</th>\n",
       "    </tr>\n",
       "  </thead>\n",
       "  <tbody>\n",
       "    <tr>\n",
       "      <th>0</th>\n",
       "      <td>SK10009</td>\n",
       "      <td>0.000</td>\n",
       "    </tr>\n",
       "    <tr>\n",
       "      <th>1</th>\n",
       "      <td>SK10021</td>\n",
       "      <td>0.000</td>\n",
       "    </tr>\n",
       "    <tr>\n",
       "      <th>2</th>\n",
       "      <td>SK10030</td>\n",
       "      <td>10586.018</td>\n",
       "    </tr>\n",
       "    <tr>\n",
       "      <th>3</th>\n",
       "      <td>SK10037</td>\n",
       "      <td>14460.112</td>\n",
       "    </tr>\n",
       "    <tr>\n",
       "      <th>4</th>\n",
       "      <td>SK10041</td>\n",
       "      <td>0.000</td>\n",
       "    </tr>\n",
       "  </tbody>\n",
       "</table>\n",
       "</div>"
      ],
      "text/plain": [
       "    Skcode  Totalvolume\n",
       "0  SK10009        0.000\n",
       "1  SK10021        0.000\n",
       "2  SK10030    10586.018\n",
       "3  SK10037    14460.112\n",
       "4  SK10041        0.000"
      ]
     },
     "execution_count": 11,
     "metadata": {},
     "output_type": "execute_result"
    }
   ],
   "source": [
    "df_to_vol.head()"
   ]
  },
  {
   "cell_type": "code",
   "execution_count": 12,
   "metadata": {},
   "outputs": [
    {
     "data": {
      "text/plain": [
       "4862.677921395348"
      ]
     },
     "execution_count": 12,
     "metadata": {},
     "output_type": "execute_result"
    }
   ],
   "source": [
    "df['Totalvolume'].mean()\n"
   ]
  },
  {
   "cell_type": "code",
   "execution_count": 13,
   "metadata": {},
   "outputs": [
    {
     "data": {
      "text/html": [
       "<div>\n",
       "<style scoped>\n",
       "    .dataframe tbody tr th:only-of-type {\n",
       "        vertical-align: middle;\n",
       "    }\n",
       "\n",
       "    .dataframe tbody tr th {\n",
       "        vertical-align: top;\n",
       "    }\n",
       "\n",
       "    .dataframe thead th {\n",
       "        text-align: right;\n",
       "    }\n",
       "</style>\n",
       "<table border=\"1\" class=\"dataframe\">\n",
       "  <thead>\n",
       "    <tr style=\"text-align: right;\">\n",
       "      <th></th>\n",
       "      <th>Skcode</th>\n",
       "      <th>Totalvolume</th>\n",
       "    </tr>\n",
       "  </thead>\n",
       "  <tbody>\n",
       "    <tr>\n",
       "      <th>1728</th>\n",
       "      <td>SK20659</td>\n",
       "      <td>591408.000</td>\n",
       "    </tr>\n",
       "    <tr>\n",
       "      <th>4209</th>\n",
       "      <td>SK9614</td>\n",
       "      <td>521491.409</td>\n",
       "    </tr>\n",
       "    <tr>\n",
       "      <th>3051</th>\n",
       "      <td>SK7510</td>\n",
       "      <td>511675.758</td>\n",
       "    </tr>\n",
       "    <tr>\n",
       "      <th>3494</th>\n",
       "      <td>SK8189</td>\n",
       "      <td>385231.746</td>\n",
       "    </tr>\n",
       "    <tr>\n",
       "      <th>3715</th>\n",
       "      <td>SK8429</td>\n",
       "      <td>385187.676</td>\n",
       "    </tr>\n",
       "  </tbody>\n",
       "</table>\n",
       "</div>"
      ],
      "text/plain": [
       "       Skcode  Totalvolume\n",
       "1728  SK20659   591408.000\n",
       "4209   SK9614   521491.409\n",
       "3051   SK7510   511675.758\n",
       "3494   SK8189   385231.746\n",
       "3715   SK8429   385187.676"
      ]
     },
     "execution_count": 13,
     "metadata": {},
     "output_type": "execute_result"
    }
   ],
   "source": [
    "df_to_vol.sort_values(by='Totalvolume',ascending=False).head()\n"
   ]
  },
  {
   "cell_type": "code",
   "execution_count": 14,
   "metadata": {},
   "outputs": [
    {
     "data": {
      "text/plain": [
       "Text(0.5, 0.98, 'MonthlyVolume')"
      ]
     },
     "execution_count": 14,
     "metadata": {},
     "output_type": "execute_result"
    },
    {
     "data": {
      "image/png": "[encoded data removed]",
      "text/plain": [
       "<Figure size 432x288 with 1 Axes>"
      ]
     },
     "metadata": {
      "needs_background": "light"
     },
     "output_type": "display_data"
    }
   ],
   "source": [
    "plt.hist(df_to_vol['Totalvolume'],bins=[0,10000,20000,30000,50000],rwidth=0.75)\n",
    "plt.suptitle(\"MonthlyVolume\")\n",
    "\n"
   ]
  },
  {
   "cell_type": "code",
   "execution_count": null,
   "metadata": {},
   "outputs": [],
   "source": []
  },
  {
   "cell_type": "code",
   "execution_count": null,
   "metadata": {},
   "outputs": [],
   "source": []
  },
  {
   "cell_type": "markdown",
   "metadata": {},
   "source": [
    "##  no of order per month"
   ]
  },
  {
   "cell_type": "code",
   "execution_count": null,
   "metadata": {},
   "outputs": [],
   "source": []
  },
  {
   "cell_type": "code",
   "execution_count": 15,
   "metadata": {},
   "outputs": [
    {
     "data": {
      "text/html": [
       "<div>\n",
       "<style scoped>\n",
       "    .dataframe tbody tr th:only-of-type {\n",
       "        vertical-align: middle;\n",
       "    }\n",
       "\n",
       "    .dataframe tbody tr th {\n",
       "        vertical-align: top;\n",
       "    }\n",
       "\n",
       "    .dataframe thead th {\n",
       "        text-align: right;\n",
       "    }\n",
       "</style>\n",
       "<table border=\"1\" class=\"dataframe\">\n",
       "  <thead>\n",
       "    <tr style=\"text-align: right;\">\n",
       "      <th></th>\n",
       "      <th>Skcode</th>\n",
       "      <th>nooforder</th>\n",
       "    </tr>\n",
       "  </thead>\n",
       "  <tbody>\n",
       "    <tr>\n",
       "      <th>0</th>\n",
       "      <td>SK10009</td>\n",
       "      <td>0</td>\n",
       "    </tr>\n",
       "    <tr>\n",
       "      <th>1</th>\n",
       "      <td>SK10021</td>\n",
       "      <td>0</td>\n",
       "    </tr>\n",
       "    <tr>\n",
       "      <th>2</th>\n",
       "      <td>SK10030</td>\n",
       "      <td>1</td>\n",
       "    </tr>\n",
       "    <tr>\n",
       "      <th>3</th>\n",
       "      <td>SK10037</td>\n",
       "      <td>1</td>\n",
       "    </tr>\n",
       "    <tr>\n",
       "      <th>4</th>\n",
       "      <td>SK10041</td>\n",
       "      <td>0</td>\n",
       "    </tr>\n",
       "  </tbody>\n",
       "</table>\n",
       "</div>"
      ],
      "text/plain": [
       "    Skcode  nooforder\n",
       "0  SK10009          0\n",
       "1  SK10021          0\n",
       "2  SK10030          1\n",
       "3  SK10037          1\n",
       "4  SK10041          0"
      ]
     },
     "execution_count": 15,
     "metadata": {},
     "output_type": "execute_result"
    }
   ],
   "source": [
    "df_nooforder=df_MAY[['Skcode','nooforder']].copy()\n",
    "df_nooforder.head()"
   ]
  },
  {
   "cell_type": "code",
   "execution_count": 16,
   "metadata": {},
   "outputs": [
    {
     "data": {
      "text/html": [
       "<div>\n",
       "<style scoped>\n",
       "    .dataframe tbody tr th:only-of-type {\n",
       "        vertical-align: middle;\n",
       "    }\n",
       "\n",
       "    .dataframe tbody tr th {\n",
       "        vertical-align: top;\n",
       "    }\n",
       "\n",
       "    .dataframe thead th {\n",
       "        text-align: right;\n",
       "    }\n",
       "</style>\n",
       "<table border=\"1\" class=\"dataframe\">\n",
       "  <thead>\n",
       "    <tr style=\"text-align: right;\">\n",
       "      <th></th>\n",
       "      <th>Skcode</th>\n",
       "      <th>nooforder</th>\n",
       "    </tr>\n",
       "  </thead>\n",
       "  <tbody>\n",
       "    <tr>\n",
       "      <th>152</th>\n",
       "      <td>SK11696</td>\n",
       "      <td>62</td>\n",
       "    </tr>\n",
       "    <tr>\n",
       "      <th>4209</th>\n",
       "      <td>SK9614</td>\n",
       "      <td>45</td>\n",
       "    </tr>\n",
       "    <tr>\n",
       "      <th>3877</th>\n",
       "      <td>SK8599</td>\n",
       "      <td>32</td>\n",
       "    </tr>\n",
       "    <tr>\n",
       "      <th>74</th>\n",
       "      <td>SK10376</td>\n",
       "      <td>30</td>\n",
       "    </tr>\n",
       "    <tr>\n",
       "      <th>2109</th>\n",
       "      <td>SK4036</td>\n",
       "      <td>26</td>\n",
       "    </tr>\n",
       "  </tbody>\n",
       "</table>\n",
       "</div>"
      ],
      "text/plain": [
       "       Skcode  nooforder\n",
       "152   SK11696         62\n",
       "4209   SK9614         45\n",
       "3877   SK8599         32\n",
       "74    SK10376         30\n",
       "2109   SK4036         26"
      ]
     },
     "execution_count": 16,
     "metadata": {},
     "output_type": "execute_result"
    }
   ],
   "source": [
    "df_nooforder.sort_values(by='nooforder',ascending=False).head()\n"
   ]
  },
  {
   "cell_type": "code",
   "execution_count": 17,
   "metadata": {},
   "outputs": [
    {
     "data": {
      "text/plain": [
       "0.6325581395348837"
      ]
     },
     "execution_count": 17,
     "metadata": {},
     "output_type": "execute_result"
    }
   ],
   "source": [
    "df['nooforder'].mean()\n"
   ]
  },
  {
   "cell_type": "code",
   "execution_count": 18,
   "metadata": {},
   "outputs": [
    {
     "data": {
      "text/plain": [
       "Text(0.5, 0.98, 'nooforder')"
      ]
     },
     "execution_count": 18,
     "metadata": {},
     "output_type": "execute_result"
    },
    {
     "data": {
      "image/png": "[encoded data removed]",
      "text/plain": [
       "<Figure size 432x288 with 1 Axes>"
      ]
     },
     "metadata": {
      "needs_background": "light"
     },
     "output_type": "display_data"
    }
   ],
   "source": [
    "plt.hist(df_nooforder['nooforder'],bins=[0,5,10,20,40,70],rwidth=0.50)\n",
    "plt.suptitle(\"nooforder\")\n",
    "\n"
   ]
  },
  {
   "cell_type": "code",
   "execution_count": null,
   "metadata": {},
   "outputs": [],
   "source": []
  },
  {
   "cell_type": "code",
   "execution_count": null,
   "metadata": {},
   "outputs": [],
   "source": []
  },
  {
   "cell_type": "code",
   "execution_count": null,
   "metadata": {},
   "outputs": [],
   "source": []
  },
  {
   "cell_type": "markdown",
   "metadata": {},
   "source": [
    "## number of brand"
   ]
  },
  {
   "cell_type": "code",
   "execution_count": null,
   "metadata": {},
   "outputs": [],
   "source": []
  },
  {
   "cell_type": "code",
   "execution_count": 19,
   "metadata": {},
   "outputs": [
    {
     "data": {
      "text/html": [
       "<div>\n",
       "<style scoped>\n",
       "    .dataframe tbody tr th:only-of-type {\n",
       "        vertical-align: middle;\n",
       "    }\n",
       "\n",
       "    .dataframe tbody tr th {\n",
       "        vertical-align: top;\n",
       "    }\n",
       "\n",
       "    .dataframe thead th {\n",
       "        text-align: right;\n",
       "    }\n",
       "</style>\n",
       "<table border=\"1\" class=\"dataframe\">\n",
       "  <thead>\n",
       "    <tr style=\"text-align: right;\">\n",
       "      <th></th>\n",
       "      <th>Skcode</th>\n",
       "      <th>noofbrand</th>\n",
       "    </tr>\n",
       "  </thead>\n",
       "  <tbody>\n",
       "    <tr>\n",
       "      <th>0</th>\n",
       "      <td>SK10009</td>\n",
       "      <td>0</td>\n",
       "    </tr>\n",
       "    <tr>\n",
       "      <th>1</th>\n",
       "      <td>SK10021</td>\n",
       "      <td>0</td>\n",
       "    </tr>\n",
       "    <tr>\n",
       "      <th>2</th>\n",
       "      <td>SK10030</td>\n",
       "      <td>9</td>\n",
       "    </tr>\n",
       "    <tr>\n",
       "      <th>3</th>\n",
       "      <td>SK10037</td>\n",
       "      <td>7</td>\n",
       "    </tr>\n",
       "    <tr>\n",
       "      <th>4</th>\n",
       "      <td>SK10041</td>\n",
       "      <td>0</td>\n",
       "    </tr>\n",
       "  </tbody>\n",
       "</table>\n",
       "</div>"
      ],
      "text/plain": [
       "    Skcode  noofbrand\n",
       "0  SK10009          0\n",
       "1  SK10021          0\n",
       "2  SK10030          9\n",
       "3  SK10037          7\n",
       "4  SK10041          0"
      ]
     },
     "execution_count": 19,
     "metadata": {},
     "output_type": "execute_result"
    }
   ],
   "source": [
    "df_noofbrand=df_MAY[['Skcode','noofbrand']].copy()\n",
    "df_noofbrand.head()"
   ]
  },
  {
   "cell_type": "code",
   "execution_count": 20,
   "metadata": {},
   "outputs": [
    {
     "data": {
      "text/html": [
       "<div>\n",
       "<style scoped>\n",
       "    .dataframe tbody tr th:only-of-type {\n",
       "        vertical-align: middle;\n",
       "    }\n",
       "\n",
       "    .dataframe tbody tr th {\n",
       "        vertical-align: top;\n",
       "    }\n",
       "\n",
       "    .dataframe thead th {\n",
       "        text-align: right;\n",
       "    }\n",
       "</style>\n",
       "<table border=\"1\" class=\"dataframe\">\n",
       "  <thead>\n",
       "    <tr style=\"text-align: right;\">\n",
       "      <th></th>\n",
       "      <th>Skcode</th>\n",
       "      <th>noofbrand</th>\n",
       "    </tr>\n",
       "  </thead>\n",
       "  <tbody>\n",
       "    <tr>\n",
       "      <th>2300</th>\n",
       "      <td>SK4230</td>\n",
       "      <td>49</td>\n",
       "    </tr>\n",
       "    <tr>\n",
       "      <th>4186</th>\n",
       "      <td>SK9433</td>\n",
       "      <td>44</td>\n",
       "    </tr>\n",
       "    <tr>\n",
       "      <th>2623</th>\n",
       "      <td>SK4562</td>\n",
       "      <td>40</td>\n",
       "    </tr>\n",
       "    <tr>\n",
       "      <th>3328</th>\n",
       "      <td>SK7918</td>\n",
       "      <td>39</td>\n",
       "    </tr>\n",
       "    <tr>\n",
       "      <th>3100</th>\n",
       "      <td>SK7563</td>\n",
       "      <td>38</td>\n",
       "    </tr>\n",
       "  </tbody>\n",
       "</table>\n",
       "</div>"
      ],
      "text/plain": [
       "      Skcode  noofbrand\n",
       "2300  SK4230         49\n",
       "4186  SK9433         44\n",
       "2623  SK4562         40\n",
       "3328  SK7918         39\n",
       "3100  SK7563         38"
      ]
     },
     "execution_count": 20,
     "metadata": {},
     "output_type": "execute_result"
    }
   ],
   "source": [
    "df_noofbrand.sort_values(by='noofbrand',ascending=False).head()\n"
   ]
  },
  {
   "cell_type": "code",
   "execution_count": 21,
   "metadata": {},
   "outputs": [
    {
     "data": {
      "text/plain": [
       "1.8632558139534883"
      ]
     },
     "execution_count": 21,
     "metadata": {},
     "output_type": "execute_result"
    }
   ],
   "source": [
    "df['noofbrand'].mean()\n"
   ]
  },
  {
   "cell_type": "code",
   "execution_count": null,
   "metadata": {},
   "outputs": [],
   "source": []
  },
  {
   "cell_type": "code",
   "execution_count": 22,
   "metadata": {},
   "outputs": [
    {
     "data": {
      "text/plain": [
       "Text(0.5, 0.98, 'noofbrand')"
      ]
     },
     "execution_count": 22,
     "metadata": {},
     "output_type": "execute_result"
    },
    {
     "data": {
      "image/png": "[encoded data removed]",
      "text/plain": [
       "<Figure size 432x288 with 1 Axes>"
      ]
     },
     "metadata": {
      "needs_background": "light"
     },
     "output_type": "display_data"
    }
   ],
   "source": [
    "plt.hist(df_noofbrand['noofbrand'],bins=[0,5,10,20,40,70],rwidth=0.50)\n",
    "plt.suptitle(\"noofbrand\")\n",
    "\n"
   ]
  },
  {
   "cell_type": "code",
   "execution_count": null,
   "metadata": {},
   "outputs": [],
   "source": []
  },
  {
   "cell_type": "code",
   "execution_count": null,
   "metadata": {},
   "outputs": [],
   "source": []
  },
  {
   "cell_type": "markdown",
   "metadata": {},
   "source": [
    "## kisan kirana volume"
   ]
  },
  {
   "cell_type": "code",
   "execution_count": null,
   "metadata": {},
   "outputs": [],
   "source": []
  },
  {
   "cell_type": "code",
   "execution_count": 23,
   "metadata": {},
   "outputs": [
    {
     "data": {
      "text/html": [
       "<div>\n",
       "<style scoped>\n",
       "    .dataframe tbody tr th:only-of-type {\n",
       "        vertical-align: middle;\n",
       "    }\n",
       "\n",
       "    .dataframe tbody tr th {\n",
       "        vertical-align: top;\n",
       "    }\n",
       "\n",
       "    .dataframe thead th {\n",
       "        text-align: right;\n",
       "    }\n",
       "</style>\n",
       "<table border=\"1\" class=\"dataframe\">\n",
       "  <thead>\n",
       "    <tr style=\"text-align: right;\">\n",
       "      <th></th>\n",
       "      <th>Skcode</th>\n",
       "      <th>KKvolume</th>\n",
       "    </tr>\n",
       "  </thead>\n",
       "  <tbody>\n",
       "    <tr>\n",
       "      <th>0</th>\n",
       "      <td>SK10009</td>\n",
       "      <td>0.0</td>\n",
       "    </tr>\n",
       "    <tr>\n",
       "      <th>1</th>\n",
       "      <td>SK10021</td>\n",
       "      <td>0.0</td>\n",
       "    </tr>\n",
       "    <tr>\n",
       "      <th>2</th>\n",
       "      <td>SK10030</td>\n",
       "      <td>0.0</td>\n",
       "    </tr>\n",
       "    <tr>\n",
       "      <th>3</th>\n",
       "      <td>SK10037</td>\n",
       "      <td>0.0</td>\n",
       "    </tr>\n",
       "    <tr>\n",
       "      <th>4</th>\n",
       "      <td>SK10041</td>\n",
       "      <td>0.0</td>\n",
       "    </tr>\n",
       "  </tbody>\n",
       "</table>\n",
       "</div>"
      ],
      "text/plain": [
       "    Skcode  KKvolume\n",
       "0  SK10009       0.0\n",
       "1  SK10021       0.0\n",
       "2  SK10030       0.0\n",
       "3  SK10037       0.0\n",
       "4  SK10041       0.0"
      ]
     },
     "execution_count": 23,
     "metadata": {},
     "output_type": "execute_result"
    }
   ],
   "source": [
    "df_KKvolume=df_MAY[['Skcode','KKvolume']].copy()\n",
    "df_KKvolume.head()"
   ]
  },
  {
   "cell_type": "code",
   "execution_count": null,
   "metadata": {},
   "outputs": [],
   "source": []
  },
  {
   "cell_type": "code",
   "execution_count": 24,
   "metadata": {},
   "outputs": [
    {
     "data": {
      "text/html": [
       "<div>\n",
       "<style scoped>\n",
       "    .dataframe tbody tr th:only-of-type {\n",
       "        vertical-align: middle;\n",
       "    }\n",
       "\n",
       "    .dataframe tbody tr th {\n",
       "        vertical-align: top;\n",
       "    }\n",
       "\n",
       "    .dataframe thead th {\n",
       "        text-align: right;\n",
       "    }\n",
       "</style>\n",
       "<table border=\"1\" class=\"dataframe\">\n",
       "  <thead>\n",
       "    <tr style=\"text-align: right;\">\n",
       "      <th></th>\n",
       "      <th>Skcode</th>\n",
       "      <th>KKvolume</th>\n",
       "    </tr>\n",
       "  </thead>\n",
       "  <tbody>\n",
       "    <tr>\n",
       "      <th>4191</th>\n",
       "      <td>SK9461</td>\n",
       "      <td>247673.800</td>\n",
       "    </tr>\n",
       "    <tr>\n",
       "      <th>2108</th>\n",
       "      <td>SK4035</td>\n",
       "      <td>122396.250</td>\n",
       "    </tr>\n",
       "    <tr>\n",
       "      <th>4209</th>\n",
       "      <td>SK9614</td>\n",
       "      <td>99002.855</td>\n",
       "    </tr>\n",
       "    <tr>\n",
       "      <th>4173</th>\n",
       "      <td>SK9372</td>\n",
       "      <td>93345.000</td>\n",
       "    </tr>\n",
       "    <tr>\n",
       "      <th>3872</th>\n",
       "      <td>SK8594</td>\n",
       "      <td>68656.150</td>\n",
       "    </tr>\n",
       "  </tbody>\n",
       "</table>\n",
       "</div>"
      ],
      "text/plain": [
       "      Skcode    KKvolume\n",
       "4191  SK9461  247673.800\n",
       "2108  SK4035  122396.250\n",
       "4209  SK9614   99002.855\n",
       "4173  SK9372   93345.000\n",
       "3872  SK8594   68656.150"
      ]
     },
     "execution_count": 24,
     "metadata": {},
     "output_type": "execute_result"
    }
   ],
   "source": [
    "df_KKvolume.sort_values(by='KKvolume',ascending=False).head()\n"
   ]
  },
  {
   "cell_type": "code",
   "execution_count": 25,
   "metadata": {},
   "outputs": [
    {
     "data": {
      "text/plain": [
       "662.393065116279"
      ]
     },
     "execution_count": 25,
     "metadata": {},
     "output_type": "execute_result"
    }
   ],
   "source": [
    "df['KKvolume'].mean()\n"
   ]
  },
  {
   "cell_type": "code",
   "execution_count": 26,
   "metadata": {},
   "outputs": [
    {
     "data": {
      "text/plain": [
       "Text(0.5, 0.98, 'KKvolume')"
      ]
     },
     "execution_count": 26,
     "metadata": {},
     "output_type": "execute_result"
    },
    {
     "data": {
      "image/png": "[encoded data removed]",
      "text/plain": [
       "<Figure size 432x288 with 1 Axes>"
      ]
     },
     "metadata": {
      "needs_background": "light"
     },
     "output_type": "display_data"
    }
   ],
   "source": [
    "plt.hist(df_KKvolume['KKvolume'],bins=[0,10000,50000,100000,200000,300000],rwidth=0.50)\n",
    "plt.suptitle(\"KKvolume\")\n",
    "\n"
   ]
  },
  {
   "cell_type": "code",
   "execution_count": null,
   "metadata": {},
   "outputs": [],
   "source": []
  },
  {
   "cell_type": "code",
   "execution_count": null,
   "metadata": {},
   "outputs": [],
   "source": []
  },
  {
   "cell_type": "markdown",
   "metadata": {},
   "source": [
    "##  Customer ordered through his own app"
   ]
  },
  {
   "cell_type": "code",
   "execution_count": null,
   "metadata": {},
   "outputs": [],
   "source": []
  },
  {
   "cell_type": "code",
   "execution_count": null,
   "metadata": {},
   "outputs": [],
   "source": []
  },
  {
   "cell_type": "code",
   "execution_count": 27,
   "metadata": {},
   "outputs": [
    {
     "data": {
      "text/html": [
       "<div>\n",
       "<style scoped>\n",
       "    .dataframe tbody tr th:only-of-type {\n",
       "        vertical-align: middle;\n",
       "    }\n",
       "\n",
       "    .dataframe tbody tr th {\n",
       "        vertical-align: top;\n",
       "    }\n",
       "\n",
       "    .dataframe thead th {\n",
       "        text-align: right;\n",
       "    }\n",
       "</style>\n",
       "<table border=\"1\" class=\"dataframe\">\n",
       "  <thead>\n",
       "    <tr style=\"text-align: right;\">\n",
       "      <th></th>\n",
       "      <th>Skcode</th>\n",
       "      <th>SelforderPercentage</th>\n",
       "    </tr>\n",
       "  </thead>\n",
       "  <tbody>\n",
       "    <tr>\n",
       "      <th>0</th>\n",
       "      <td>SK10009</td>\n",
       "      <td>0</td>\n",
       "    </tr>\n",
       "    <tr>\n",
       "      <th>1</th>\n",
       "      <td>SK10021</td>\n",
       "      <td>0</td>\n",
       "    </tr>\n",
       "    <tr>\n",
       "      <th>2</th>\n",
       "      <td>SK10030</td>\n",
       "      <td>0</td>\n",
       "    </tr>\n",
       "    <tr>\n",
       "      <th>3</th>\n",
       "      <td>SK10037</td>\n",
       "      <td>0</td>\n",
       "    </tr>\n",
       "    <tr>\n",
       "      <th>4</th>\n",
       "      <td>SK10041</td>\n",
       "      <td>0</td>\n",
       "    </tr>\n",
       "  </tbody>\n",
       "</table>\n",
       "</div>"
      ],
      "text/plain": [
       "    Skcode  SelforderPercentage\n",
       "0  SK10009                    0\n",
       "1  SK10021                    0\n",
       "2  SK10030                    0\n",
       "3  SK10037                    0\n",
       "4  SK10041                    0"
      ]
     },
     "execution_count": 27,
     "metadata": {},
     "output_type": "execute_result"
    }
   ],
   "source": [
    "df_SelforderPercentage=df_MAY[['Skcode','SelforderPercentage']].copy()\n",
    "df_SelforderPercentage.head()"
   ]
  },
  {
   "cell_type": "code",
   "execution_count": null,
   "metadata": {},
   "outputs": [],
   "source": []
  },
  {
   "cell_type": "code",
   "execution_count": 28,
   "metadata": {},
   "outputs": [
    {
     "data": {
      "text/html": [
       "<div>\n",
       "<style scoped>\n",
       "    .dataframe tbody tr th:only-of-type {\n",
       "        vertical-align: middle;\n",
       "    }\n",
       "\n",
       "    .dataframe tbody tr th {\n",
       "        vertical-align: top;\n",
       "    }\n",
       "\n",
       "    .dataframe thead th {\n",
       "        text-align: right;\n",
       "    }\n",
       "</style>\n",
       "<table border=\"1\" class=\"dataframe\">\n",
       "  <thead>\n",
       "    <tr style=\"text-align: right;\">\n",
       "      <th></th>\n",
       "      <th>Skcode</th>\n",
       "      <th>SelforderPercentage</th>\n",
       "    </tr>\n",
       "  </thead>\n",
       "  <tbody>\n",
       "    <tr>\n",
       "      <th>4141</th>\n",
       "      <td>SK9219</td>\n",
       "      <td>100</td>\n",
       "    </tr>\n",
       "    <tr>\n",
       "      <th>3587</th>\n",
       "      <td>SK8291</td>\n",
       "      <td>100</td>\n",
       "    </tr>\n",
       "    <tr>\n",
       "      <th>2801</th>\n",
       "      <td>SK4742</td>\n",
       "      <td>100</td>\n",
       "    </tr>\n",
       "    <tr>\n",
       "      <th>4006</th>\n",
       "      <td>SK8776</td>\n",
       "      <td>100</td>\n",
       "    </tr>\n",
       "    <tr>\n",
       "      <th>1628</th>\n",
       "      <td>SK20395</td>\n",
       "      <td>100</td>\n",
       "    </tr>\n",
       "  </tbody>\n",
       "</table>\n",
       "</div>"
      ],
      "text/plain": [
       "       Skcode  SelforderPercentage\n",
       "4141   SK9219                  100\n",
       "3587   SK8291                  100\n",
       "2801   SK4742                  100\n",
       "4006   SK8776                  100\n",
       "1628  SK20395                  100"
      ]
     },
     "execution_count": 28,
     "metadata": {},
     "output_type": "execute_result"
    }
   ],
   "source": [
    "df_SelforderPercentage.sort_values(by='SelforderPercentage',ascending=False).head()\n"
   ]
  },
  {
   "cell_type": "code",
   "execution_count": 29,
   "metadata": {},
   "outputs": [
    {
     "data": {
      "text/plain": [
       "7.658604651162791"
      ]
     },
     "execution_count": 29,
     "metadata": {},
     "output_type": "execute_result"
    }
   ],
   "source": [
    "df['SelforderPercentage'].mean()\n"
   ]
  },
  {
   "cell_type": "code",
   "execution_count": 30,
   "metadata": {},
   "outputs": [
    {
     "data": {
      "text/plain": [
       "Text(0.5, 0.98, 'SelforderPercentage')"
      ]
     },
     "execution_count": 30,
     "metadata": {},
     "output_type": "execute_result"
    },
    {
     "data": {
      "image/png": "[encoded data removed]",
      "text/plain": [
       "<Figure size 432x288 with 1 Axes>"
      ]
     },
     "metadata": {
      "needs_background": "light"
     },
     "output_type": "display_data"
    }
   ],
   "source": [
    "plt.hist(df_SelforderPercentage['SelforderPercentage'],bins=[0,10,20,30,40,60,80,100],rwidth=0.40)\n",
    "plt.suptitle(\"SelforderPercentage\")\n",
    "\n"
   ]
  },
  {
   "cell_type": "code",
   "execution_count": null,
   "metadata": {},
   "outputs": [],
   "source": []
  },
  {
   "cell_type": "markdown",
   "metadata": {},
   "source": [
    "## Levelling"
   ]
  },
  {
   "cell_type": "code",
   "execution_count": null,
   "metadata": {},
   "outputs": [],
   "source": []
  },
  {
   "cell_type": "code",
   "execution_count": null,
   "metadata": {},
   "outputs": [],
   "source": []
  },
  {
   "cell_type": "code",
   "execution_count": 31,
   "metadata": {},
   "outputs": [
    {
     "data": {
      "text/html": [
       "<div>\n",
       "<style scoped>\n",
       "    .dataframe tbody tr th:only-of-type {\n",
       "        vertical-align: middle;\n",
       "    }\n",
       "\n",
       "    .dataframe tbody tr th {\n",
       "        vertical-align: top;\n",
       "    }\n",
       "\n",
       "    .dataframe thead th {\n",
       "        text-align: right;\n",
       "    }\n",
       "</style>\n",
       "<table border=\"1\" class=\"dataframe\">\n",
       "  <thead>\n",
       "    <tr style=\"text-align: right;\">\n",
       "      <th></th>\n",
       "      <th>Skcode</th>\n",
       "      <th>nooforder</th>\n",
       "      <th>noofbrand</th>\n",
       "      <th>Totalvolume</th>\n",
       "      <th>KKvolume</th>\n",
       "      <th>SalesPersonPercentageorder</th>\n",
       "      <th>SelforderPercentage</th>\n",
       "      <th>active</th>\n",
       "    </tr>\n",
       "  </thead>\n",
       "  <tbody>\n",
       "    <tr>\n",
       "      <th>0</th>\n",
       "      <td>SK10009</td>\n",
       "      <td>0</td>\n",
       "      <td>0</td>\n",
       "      <td>0.000</td>\n",
       "      <td>0.0</td>\n",
       "      <td>0</td>\n",
       "      <td>0</td>\n",
       "      <td>True</td>\n",
       "    </tr>\n",
       "    <tr>\n",
       "      <th>1</th>\n",
       "      <td>SK10021</td>\n",
       "      <td>0</td>\n",
       "      <td>0</td>\n",
       "      <td>0.000</td>\n",
       "      <td>0.0</td>\n",
       "      <td>0</td>\n",
       "      <td>0</td>\n",
       "      <td>True</td>\n",
       "    </tr>\n",
       "    <tr>\n",
       "      <th>2</th>\n",
       "      <td>SK10030</td>\n",
       "      <td>1</td>\n",
       "      <td>9</td>\n",
       "      <td>10586.018</td>\n",
       "      <td>0.0</td>\n",
       "      <td>100</td>\n",
       "      <td>0</td>\n",
       "      <td>True</td>\n",
       "    </tr>\n",
       "    <tr>\n",
       "      <th>3</th>\n",
       "      <td>SK10037</td>\n",
       "      <td>1</td>\n",
       "      <td>7</td>\n",
       "      <td>14460.112</td>\n",
       "      <td>0.0</td>\n",
       "      <td>100</td>\n",
       "      <td>0</td>\n",
       "      <td>True</td>\n",
       "    </tr>\n",
       "    <tr>\n",
       "      <th>4</th>\n",
       "      <td>SK10041</td>\n",
       "      <td>0</td>\n",
       "      <td>0</td>\n",
       "      <td>0.000</td>\n",
       "      <td>0.0</td>\n",
       "      <td>0</td>\n",
       "      <td>0</td>\n",
       "      <td>True</td>\n",
       "    </tr>\n",
       "  </tbody>\n",
       "</table>\n",
       "</div>"
      ],
      "text/plain": [
       "    Skcode  nooforder  noofbrand  Totalvolume  KKvolume  \\\n",
       "0  SK10009          0          0        0.000       0.0   \n",
       "1  SK10021          0          0        0.000       0.0   \n",
       "2  SK10030          1          9    10586.018       0.0   \n",
       "3  SK10037          1          7    14460.112       0.0   \n",
       "4  SK10041          0          0        0.000       0.0   \n",
       "\n",
       "   SalesPersonPercentageorder  SelforderPercentage  active  \n",
       "0                           0                    0    True  \n",
       "1                           0                    0    True  \n",
       "2                         100                    0    True  \n",
       "3                         100                    0    True  \n",
       "4                           0                    0    True  "
      ]
     },
     "execution_count": 31,
     "metadata": {},
     "output_type": "execute_result"
    }
   ],
   "source": [
    "df_MAY.head()"
   ]
  },
  {
   "cell_type": "code",
   "execution_count": null,
   "metadata": {},
   "outputs": [],
   "source": []
  },
  {
   "cell_type": "code",
   "execution_count": null,
   "metadata": {},
   "outputs": [],
   "source": []
  },
  {
   "cell_type": "markdown",
   "metadata": {},
   "source": [
    "l2\n",
    "\n",
    ">3 orders a month\n",
    "More than 5 brands \n",
    "Monthly volume 10K\n",
    "\n",
    "l3\n",
    "\n",
    ">5+ orders a month\n",
    "More than 10 brands \n",
    "Monthly volume 20k\n",
    "Kisan Kirana 2k+\n",
    "\n",
    "l4\n",
    "\n",
    ">8+ orders a month\n",
    "More than 30+ brands \n",
    "Monthly volume 30K\n",
    "Kisan kirana: 8K+\n",
    "Order by app \n",
    "\n",
    "\n",
    "l5\n",
    "\n",
    ">12+ orders a month\n",
    "More than 50+ brands \n",
    "Monthly volume 50K\n",
    "Kisan kirana : 15K+\n",
    "Order by app 100%\n",
    "\n"
   ]
  },
  {
   "cell_type": "code",
   "execution_count": 32,
   "metadata": {},
   "outputs": [],
   "source": [
    "count =0"
   ]
  },
  {
   "cell_type": "code",
   "execution_count": 33,
   "metadata": {},
   "outputs": [],
   "source": [
    "# l1 customers list down \n",
    "\n"
   ]
  },
  {
   "cell_type": "code",
   "execution_count": null,
   "metadata": {},
   "outputs": [],
   "source": []
  },
  {
   "cell_type": "code",
   "execution_count": null,
   "metadata": {},
   "outputs": [],
   "source": []
  },
  {
   "cell_type": "code",
   "execution_count": null,
   "metadata": {},
   "outputs": [],
   "source": [
    "\n"
   ]
  },
  {
   "cell_type": "code",
   "execution_count": null,
   "metadata": {},
   "outputs": [],
   "source": []
  },
  {
   "cell_type": "code",
   "execution_count": 34,
   "metadata": {},
   "outputs": [],
   "source": [
    "ACTIVE = df[(df.active == 1)]\n",
    "INACTIVE = df[(df.active == 0)]\n",
    "\n",
    "\n",
    "\n"
   ]
  },
  {
   "cell_type": "code",
   "execution_count": 35,
   "metadata": {},
   "outputs": [
    {
     "data": {
      "text/html": [
       "<div>\n",
       "<style scoped>\n",
       "    .dataframe tbody tr th:only-of-type {\n",
       "        vertical-align: middle;\n",
       "    }\n",
       "\n",
       "    .dataframe tbody tr th {\n",
       "        vertical-align: top;\n",
       "    }\n",
       "\n",
       "    .dataframe thead th {\n",
       "        text-align: right;\n",
       "    }\n",
       "</style>\n",
       "<table border=\"1\" class=\"dataframe\">\n",
       "  <thead>\n",
       "    <tr style=\"text-align: right;\">\n",
       "      <th></th>\n",
       "      <th>Skcode</th>\n",
       "      <th>nooforder</th>\n",
       "      <th>noofbrand</th>\n",
       "      <th>Totalvolume</th>\n",
       "      <th>KKvolume</th>\n",
       "      <th>SalesPersonPercentageorder</th>\n",
       "      <th>SelforderPercentage</th>\n",
       "      <th>active</th>\n",
       "    </tr>\n",
       "  </thead>\n",
       "  <tbody>\n",
       "    <tr>\n",
       "      <th>0</th>\n",
       "      <td>SK10009</td>\n",
       "      <td>0</td>\n",
       "      <td>0</td>\n",
       "      <td>0.000</td>\n",
       "      <td>0.0</td>\n",
       "      <td>0</td>\n",
       "      <td>0</td>\n",
       "      <td>True</td>\n",
       "    </tr>\n",
       "    <tr>\n",
       "      <th>1</th>\n",
       "      <td>SK10021</td>\n",
       "      <td>0</td>\n",
       "      <td>0</td>\n",
       "      <td>0.000</td>\n",
       "      <td>0.0</td>\n",
       "      <td>0</td>\n",
       "      <td>0</td>\n",
       "      <td>True</td>\n",
       "    </tr>\n",
       "    <tr>\n",
       "      <th>2</th>\n",
       "      <td>SK10030</td>\n",
       "      <td>1</td>\n",
       "      <td>9</td>\n",
       "      <td>10586.018</td>\n",
       "      <td>0.0</td>\n",
       "      <td>100</td>\n",
       "      <td>0</td>\n",
       "      <td>True</td>\n",
       "    </tr>\n",
       "    <tr>\n",
       "      <th>3</th>\n",
       "      <td>SK10037</td>\n",
       "      <td>1</td>\n",
       "      <td>7</td>\n",
       "      <td>14460.112</td>\n",
       "      <td>0.0</td>\n",
       "      <td>100</td>\n",
       "      <td>0</td>\n",
       "      <td>True</td>\n",
       "    </tr>\n",
       "    <tr>\n",
       "      <th>4</th>\n",
       "      <td>SK10041</td>\n",
       "      <td>0</td>\n",
       "      <td>0</td>\n",
       "      <td>0.000</td>\n",
       "      <td>0.0</td>\n",
       "      <td>0</td>\n",
       "      <td>0</td>\n",
       "      <td>True</td>\n",
       "    </tr>\n",
       "  </tbody>\n",
       "</table>\n",
       "</div>"
      ],
      "text/plain": [
       "    Skcode  nooforder  noofbrand  Totalvolume  KKvolume  \\\n",
       "0  SK10009          0          0        0.000       0.0   \n",
       "1  SK10021          0          0        0.000       0.0   \n",
       "2  SK10030          1          9    10586.018       0.0   \n",
       "3  SK10037          1          7    14460.112       0.0   \n",
       "4  SK10041          0          0        0.000       0.0   \n",
       "\n",
       "   SalesPersonPercentageorder  SelforderPercentage  active  \n",
       "0                           0                    0    True  \n",
       "1                           0                    0    True  \n",
       "2                         100                    0    True  \n",
       "3                         100                    0    True  \n",
       "4                           0                    0    True  "
      ]
     },
     "execution_count": 35,
     "metadata": {},
     "output_type": "execute_result"
    }
   ],
   "source": [
    "ACTIVE.head()"
   ]
  },
  {
   "cell_type": "code",
   "execution_count": null,
   "metadata": {},
   "outputs": [],
   "source": []
  },
  {
   "cell_type": "code",
   "execution_count": 36,
   "metadata": {},
   "outputs": [
    {
     "data": {
      "text/plain": [
       "Skcode                        2491\n",
       "nooforder                     2491\n",
       "noofbrand                     2491\n",
       "Totalvolume                   2491\n",
       "KKvolume                      2491\n",
       "SalesPersonPercentageorder    2491\n",
       "SelforderPercentage           2491\n",
       "active                        2491\n",
       "dtype: int64"
      ]
     },
     "execution_count": 36,
     "metadata": {},
     "output_type": "execute_result"
    }
   ],
   "source": [
    "ACTIVE.count()"
   ]
  },
  {
   "cell_type": "code",
   "execution_count": 37,
   "metadata": {},
   "outputs": [
    {
     "data": {
      "text/plain": [
       "Skcode                        1809\n",
       "nooforder                     1809\n",
       "noofbrand                     1809\n",
       "Totalvolume                   1809\n",
       "KKvolume                      1809\n",
       "SalesPersonPercentageorder    1809\n",
       "SelforderPercentage           1809\n",
       "active                        1809\n",
       "dtype: int64"
      ]
     },
     "execution_count": 37,
     "metadata": {},
     "output_type": "execute_result"
    }
   ],
   "source": [
    "INACTIVE.count()"
   ]
  },
  {
   "cell_type": "code",
   "execution_count": 38,
   "metadata": {},
   "outputs": [],
   "source": [
    "df= ACTIVE"
   ]
  },
  {
   "cell_type": "code",
   "execution_count": 39,
   "metadata": {},
   "outputs": [
    {
     "data": {
      "text/plain": [
       "Skcode                        2491\n",
       "nooforder                     2491\n",
       "noofbrand                     2491\n",
       "Totalvolume                   2491\n",
       "KKvolume                      2491\n",
       "SalesPersonPercentageorder    2491\n",
       "SelforderPercentage           2491\n",
       "active                        2491\n",
       "dtype: int64"
      ]
     },
     "execution_count": 39,
     "metadata": {},
     "output_type": "execute_result"
    }
   ],
   "source": [
    "df.count()"
   ]
  },
  {
   "cell_type": "code",
   "execution_count": null,
   "metadata": {},
   "outputs": [],
   "source": []
  },
  {
   "cell_type": "code",
   "execution_count": 40,
   "metadata": {},
   "outputs": [],
   "source": [
    "df.loc[df.Totalvolume == 0, 'levels'] = 'level_0'\n",
    "df.loc[df.Totalvolume >= 1, 'levels'] = 'level_1'\n",
    "df.loc[(df.Totalvolume >= 10000) & (df.nooforder >= 3) & (df.noofbrand >= 5), 'levels'] = 'level_2'\n",
    "df.loc[(df.Totalvolume >= 20000) & (df.nooforder >= 5) & (df.noofbrand >= 10) & (df.KKvolume >= 2000), 'levels'] = 'level_3'\n",
    "df.loc[(df.Totalvolume >= 30000) & (df.nooforder >= 8) & (df.noofbrand >= 30) & (df.KKvolume >= 8000) & (df.SalesPersonPercentageorder < 100), 'levels'] = 'level_4'\n",
    "df.loc[(df.Totalvolume >= 500000) & (df.nooforder >= 12) & (df.noofbrand >= 50) & (df.KKvolume >= 15000) & (df.SelforderPercentage == 100), 'levels'] = 'level_5'"
   ]
  },
  {
   "cell_type": "code",
   "execution_count": 41,
   "metadata": {},
   "outputs": [
    {
     "data": {
      "text/html": [
       "<div>\n",
       "<style scoped>\n",
       "    .dataframe tbody tr th:only-of-type {\n",
       "        vertical-align: middle;\n",
       "    }\n",
       "\n",
       "    .dataframe tbody tr th {\n",
       "        vertical-align: top;\n",
       "    }\n",
       "\n",
       "    .dataframe thead th {\n",
       "        text-align: right;\n",
       "    }\n",
       "</style>\n",
       "<table border=\"1\" class=\"dataframe\">\n",
       "  <thead>\n",
       "    <tr style=\"text-align: right;\">\n",
       "      <th></th>\n",
       "      <th>Skcode</th>\n",
       "      <th>nooforder</th>\n",
       "      <th>noofbrand</th>\n",
       "      <th>Totalvolume</th>\n",
       "      <th>KKvolume</th>\n",
       "      <th>SalesPersonPercentageorder</th>\n",
       "      <th>SelforderPercentage</th>\n",
       "      <th>active</th>\n",
       "      <th>levels</th>\n",
       "    </tr>\n",
       "  </thead>\n",
       "  <tbody>\n",
       "    <tr>\n",
       "      <th>0</th>\n",
       "      <td>SK10009</td>\n",
       "      <td>0</td>\n",
       "      <td>0</td>\n",
       "      <td>0.000</td>\n",
       "      <td>0.0</td>\n",
       "      <td>0</td>\n",
       "      <td>0</td>\n",
       "      <td>True</td>\n",
       "      <td>level_0</td>\n",
       "    </tr>\n",
       "    <tr>\n",
       "      <th>1</th>\n",
       "      <td>SK10021</td>\n",
       "      <td>0</td>\n",
       "      <td>0</td>\n",
       "      <td>0.000</td>\n",
       "      <td>0.0</td>\n",
       "      <td>0</td>\n",
       "      <td>0</td>\n",
       "      <td>True</td>\n",
       "      <td>level_0</td>\n",
       "    </tr>\n",
       "    <tr>\n",
       "      <th>2</th>\n",
       "      <td>SK10030</td>\n",
       "      <td>1</td>\n",
       "      <td>9</td>\n",
       "      <td>10586.018</td>\n",
       "      <td>0.0</td>\n",
       "      <td>100</td>\n",
       "      <td>0</td>\n",
       "      <td>True</td>\n",
       "      <td>level_1</td>\n",
       "    </tr>\n",
       "    <tr>\n",
       "      <th>3</th>\n",
       "      <td>SK10037</td>\n",
       "      <td>1</td>\n",
       "      <td>7</td>\n",
       "      <td>14460.112</td>\n",
       "      <td>0.0</td>\n",
       "      <td>100</td>\n",
       "      <td>0</td>\n",
       "      <td>True</td>\n",
       "      <td>level_1</td>\n",
       "    </tr>\n",
       "    <tr>\n",
       "      <th>4</th>\n",
       "      <td>SK10041</td>\n",
       "      <td>0</td>\n",
       "      <td>0</td>\n",
       "      <td>0.000</td>\n",
       "      <td>0.0</td>\n",
       "      <td>0</td>\n",
       "      <td>0</td>\n",
       "      <td>True</td>\n",
       "      <td>level_0</td>\n",
       "    </tr>\n",
       "  </tbody>\n",
       "</table>\n",
       "</div>"
      ],
      "text/plain": [
       "    Skcode  nooforder  noofbrand  Totalvolume  KKvolume  \\\n",
       "0  SK10009          0          0        0.000       0.0   \n",
       "1  SK10021          0          0        0.000       0.0   \n",
       "2  SK10030          1          9    10586.018       0.0   \n",
       "3  SK10037          1          7    14460.112       0.0   \n",
       "4  SK10041          0          0        0.000       0.0   \n",
       "\n",
       "   SalesPersonPercentageorder  SelforderPercentage  active   levels  \n",
       "0                           0                    0    True  level_0  \n",
       "1                           0                    0    True  level_0  \n",
       "2                         100                    0    True  level_1  \n",
       "3                         100                    0    True  level_1  \n",
       "4                           0                    0    True  level_0  "
      ]
     },
     "execution_count": 41,
     "metadata": {},
     "output_type": "execute_result"
    }
   ],
   "source": [
    "df.head()"
   ]
  },
  {
   "cell_type": "code",
   "execution_count": 42,
   "metadata": {},
   "outputs": [
    {
     "data": {
      "text/plain": [
       "Skcode                        2491\n",
       "nooforder                     2491\n",
       "noofbrand                     2491\n",
       "Totalvolume                   2491\n",
       "KKvolume                      2491\n",
       "SalesPersonPercentageorder    2491\n",
       "SelforderPercentage           2491\n",
       "active                        2491\n",
       "levels                        2491\n",
       "dtype: int64"
      ]
     },
     "execution_count": 42,
     "metadata": {},
     "output_type": "execute_result"
    }
   ],
   "source": [
    "df.count()"
   ]
  },
  {
   "cell_type": "code",
   "execution_count": 43,
   "metadata": {},
   "outputs": [
    {
     "data": {
      "text/plain": [
       "Skcode                        1666\n",
       "nooforder                     1666\n",
       "noofbrand                     1666\n",
       "Totalvolume                   1666\n",
       "KKvolume                      1666\n",
       "SalesPersonPercentageorder    1666\n",
       "SelforderPercentage           1666\n",
       "active                        1666\n",
       "levels                        1666\n",
       "dtype: int64"
      ]
     },
     "execution_count": 43,
     "metadata": {},
     "output_type": "execute_result"
    }
   ],
   "source": [
    "df.loc[df['levels']=='level_0'].count()\n"
   ]
  },
  {
   "cell_type": "code",
   "execution_count": 44,
   "metadata": {},
   "outputs": [
    {
     "data": {
      "text/plain": [
       "Skcode                         SK9940\n",
       "nooforder                          11\n",
       "noofbrand                          33\n",
       "Totalvolume                    591408\n",
       "KKvolume                       247674\n",
       "SalesPersonPercentageorder        100\n",
       "SelforderPercentage               100\n",
       "active                           True\n",
       "levels                        level_1\n",
       "dtype: object"
      ]
     },
     "execution_count": 44,
     "metadata": {},
     "output_type": "execute_result"
    }
   ],
   "source": [
    "df.loc[df['levels']=='level_1'].max()\n"
   ]
  },
  {
   "cell_type": "code",
   "execution_count": 45,
   "metadata": {},
   "outputs": [
    {
     "data": {
      "text/plain": [
       "Skcode                         SK9969\n",
       "nooforder                          62\n",
       "noofbrand                          49\n",
       "Totalvolume                    385232\n",
       "KKvolume                        67610\n",
       "SalesPersonPercentageorder        100\n",
       "SelforderPercentage               100\n",
       "active                           True\n",
       "levels                        level_2\n",
       "dtype: object"
      ]
     },
     "execution_count": 45,
     "metadata": {},
     "output_type": "execute_result"
    }
   ],
   "source": [
    "df.loc[df['levels']=='level_2'].max()\n"
   ]
  },
  {
   "cell_type": "code",
   "execution_count": 46,
   "metadata": {},
   "outputs": [
    {
     "data": {
      "text/plain": [
       "Skcode                         SK9702\n",
       "nooforder                          16\n",
       "noofbrand                          40\n",
       "Totalvolume                    308750\n",
       "KKvolume                       122396\n",
       "SalesPersonPercentageorder        100\n",
       "SelforderPercentage                97\n",
       "active                           True\n",
       "levels                        level_3\n",
       "dtype: object"
      ]
     },
     "execution_count": 46,
     "metadata": {},
     "output_type": "execute_result"
    }
   ],
   "source": [
    "df.loc[df['levels']=='level_3'].max()\n"
   ]
  },
  {
   "cell_type": "code",
   "execution_count": 47,
   "metadata": {},
   "outputs": [
    {
     "data": {
      "text/plain": [
       "Skcode                         SK9614\n",
       "nooforder                          45\n",
       "noofbrand                          32\n",
       "Totalvolume                    521491\n",
       "KKvolume                      99002.9\n",
       "SalesPersonPercentageorder         98\n",
       "SelforderPercentage                61\n",
       "active                           True\n",
       "levels                        level_4\n",
       "dtype: object"
      ]
     },
     "execution_count": 47,
     "metadata": {},
     "output_type": "execute_result"
    }
   ],
   "source": [
    "df.loc[df['levels']=='level_4'].max()\n"
   ]
  },
  {
   "cell_type": "code",
   "execution_count": 48,
   "metadata": {},
   "outputs": [
    {
     "data": {
      "text/plain": [
       "Skcode                        0\n",
       "nooforder                     0\n",
       "noofbrand                     0\n",
       "Totalvolume                   0\n",
       "KKvolume                      0\n",
       "SalesPersonPercentageorder    0\n",
       "SelforderPercentage           0\n",
       "active                        0\n",
       "levels                        0\n",
       "dtype: int64"
      ]
     },
     "execution_count": 48,
     "metadata": {},
     "output_type": "execute_result"
    }
   ],
   "source": [
    "df.loc[df['levels']=='level_5'].count()\n"
   ]
  },
  {
   "cell_type": "code",
   "execution_count": null,
   "metadata": {},
   "outputs": [],
   "source": []
  },
  {
   "cell_type": "markdown",
   "metadata": {},
   "source": [
    "\n",
    "l2\n",
    "\n",
    "3 orders a month More than 5 brands Monthly volume 10K\n",
    "\n",
    "l3\n",
    "\n",
    "5+ orders a month More than 10 brands Monthly volume 20k Kisan Kirana 2k+\n",
    "\n",
    "l4\n",
    "\n",
    "8+ orders a month More than 30+ brands Monthly volume 30K Kisan kirana: 8K+ Order by app\n",
    "\n",
    "l5\n",
    "\n",
    "12+ orders a month More than 50+ brands Monthly volume 50K Kisan kirana : 15K+ Order by app 100%"
   ]
  },
  {
   "cell_type": "code",
   "execution_count": null,
   "metadata": {},
   "outputs": [],
   "source": []
  },
  {
   "cell_type": "code",
   "execution_count": 49,
   "metadata": {},
   "outputs": [
    {
     "data": {
      "text/html": [
       "<div>\n",
       "<style scoped>\n",
       "    .dataframe tbody tr th:only-of-type {\n",
       "        vertical-align: middle;\n",
       "    }\n",
       "\n",
       "    .dataframe tbody tr th {\n",
       "        vertical-align: top;\n",
       "    }\n",
       "\n",
       "    .dataframe thead th {\n",
       "        text-align: right;\n",
       "    }\n",
       "</style>\n",
       "<table border=\"1\" class=\"dataframe\">\n",
       "  <thead>\n",
       "    <tr style=\"text-align: right;\">\n",
       "      <th></th>\n",
       "      <th>Skcode</th>\n",
       "      <th>nooforder</th>\n",
       "      <th>noofbrand</th>\n",
       "      <th>Totalvolume</th>\n",
       "      <th>KKvolume</th>\n",
       "      <th>SalesPersonPercentageorder</th>\n",
       "      <th>SelforderPercentage</th>\n",
       "      <th>active</th>\n",
       "      <th>levels</th>\n",
       "    </tr>\n",
       "  </thead>\n",
       "  <tbody>\n",
       "    <tr>\n",
       "      <th>0</th>\n",
       "      <td>SK10009</td>\n",
       "      <td>0</td>\n",
       "      <td>0</td>\n",
       "      <td>0.000</td>\n",
       "      <td>0.0</td>\n",
       "      <td>0</td>\n",
       "      <td>0</td>\n",
       "      <td>True</td>\n",
       "      <td>level_0</td>\n",
       "    </tr>\n",
       "    <tr>\n",
       "      <th>1</th>\n",
       "      <td>SK10021</td>\n",
       "      <td>0</td>\n",
       "      <td>0</td>\n",
       "      <td>0.000</td>\n",
       "      <td>0.0</td>\n",
       "      <td>0</td>\n",
       "      <td>0</td>\n",
       "      <td>True</td>\n",
       "      <td>level_0</td>\n",
       "    </tr>\n",
       "    <tr>\n",
       "      <th>2</th>\n",
       "      <td>SK10030</td>\n",
       "      <td>1</td>\n",
       "      <td>9</td>\n",
       "      <td>10586.018</td>\n",
       "      <td>0.0</td>\n",
       "      <td>100</td>\n",
       "      <td>0</td>\n",
       "      <td>True</td>\n",
       "      <td>level_1</td>\n",
       "    </tr>\n",
       "    <tr>\n",
       "      <th>3</th>\n",
       "      <td>SK10037</td>\n",
       "      <td>1</td>\n",
       "      <td>7</td>\n",
       "      <td>14460.112</td>\n",
       "      <td>0.0</td>\n",
       "      <td>100</td>\n",
       "      <td>0</td>\n",
       "      <td>True</td>\n",
       "      <td>level_1</td>\n",
       "    </tr>\n",
       "    <tr>\n",
       "      <th>4</th>\n",
       "      <td>SK10041</td>\n",
       "      <td>0</td>\n",
       "      <td>0</td>\n",
       "      <td>0.000</td>\n",
       "      <td>0.0</td>\n",
       "      <td>0</td>\n",
       "      <td>0</td>\n",
       "      <td>True</td>\n",
       "      <td>level_0</td>\n",
       "    </tr>\n",
       "  </tbody>\n",
       "</table>\n",
       "</div>"
      ],
      "text/plain": [
       "    Skcode  nooforder  noofbrand  Totalvolume  KKvolume  \\\n",
       "0  SK10009          0          0        0.000       0.0   \n",
       "1  SK10021          0          0        0.000       0.0   \n",
       "2  SK10030          1          9    10586.018       0.0   \n",
       "3  SK10037          1          7    14460.112       0.0   \n",
       "4  SK10041          0          0        0.000       0.0   \n",
       "\n",
       "   SalesPersonPercentageorder  SelforderPercentage  active   levels  \n",
       "0                           0                    0    True  level_0  \n",
       "1                           0                    0    True  level_0  \n",
       "2                         100                    0    True  level_1  \n",
       "3                         100                    0    True  level_1  \n",
       "4                           0                    0    True  level_0  "
      ]
     },
     "execution_count": 49,
     "metadata": {},
     "output_type": "execute_result"
    }
   ],
   "source": [
    "df.head()"
   ]
  },
  {
   "cell_type": "code",
   "execution_count": null,
   "metadata": {},
   "outputs": [],
   "source": []
  },
  {
   "cell_type": "code",
   "execution_count": 50,
   "metadata": {},
   "outputs": [
    {
     "data": {
      "text/html": [
       "<div>\n",
       "<style scoped>\n",
       "    .dataframe tbody tr th:only-of-type {\n",
       "        vertical-align: middle;\n",
       "    }\n",
       "\n",
       "    .dataframe tbody tr th {\n",
       "        vertical-align: top;\n",
       "    }\n",
       "\n",
       "    .dataframe thead th {\n",
       "        text-align: right;\n",
       "    }\n",
       "</style>\n",
       "<table border=\"1\" class=\"dataframe\">\n",
       "  <thead>\n",
       "    <tr style=\"text-align: right;\">\n",
       "      <th></th>\n",
       "      <th>Skcode</th>\n",
       "      <th>nooforder</th>\n",
       "      <th>noofbrand</th>\n",
       "      <th>Totalvolume</th>\n",
       "      <th>KKvolume</th>\n",
       "      <th>SalesPersonPercentageorder</th>\n",
       "      <th>SelforderPercentage</th>\n",
       "      <th>active</th>\n",
       "      <th>levels</th>\n",
       "    </tr>\n",
       "  </thead>\n",
       "  <tbody>\n",
       "    <tr>\n",
       "      <th>0</th>\n",
       "      <td>SK10009</td>\n",
       "      <td>0</td>\n",
       "      <td>0</td>\n",
       "      <td>0.0</td>\n",
       "      <td>0.0</td>\n",
       "      <td>0</td>\n",
       "      <td>0</td>\n",
       "      <td>True</td>\n",
       "      <td>level_0</td>\n",
       "    </tr>\n",
       "    <tr>\n",
       "      <th>1</th>\n",
       "      <td>SK10021</td>\n",
       "      <td>0</td>\n",
       "      <td>0</td>\n",
       "      <td>0.0</td>\n",
       "      <td>0.0</td>\n",
       "      <td>0</td>\n",
       "      <td>0</td>\n",
       "      <td>True</td>\n",
       "      <td>level_0</td>\n",
       "    </tr>\n",
       "    <tr>\n",
       "      <th>4</th>\n",
       "      <td>SK10041</td>\n",
       "      <td>0</td>\n",
       "      <td>0</td>\n",
       "      <td>0.0</td>\n",
       "      <td>0.0</td>\n",
       "      <td>0</td>\n",
       "      <td>0</td>\n",
       "      <td>True</td>\n",
       "      <td>level_0</td>\n",
       "    </tr>\n",
       "    <tr>\n",
       "      <th>5</th>\n",
       "      <td>SK10042</td>\n",
       "      <td>0</td>\n",
       "      <td>0</td>\n",
       "      <td>0.0</td>\n",
       "      <td>0.0</td>\n",
       "      <td>0</td>\n",
       "      <td>0</td>\n",
       "      <td>True</td>\n",
       "      <td>level_0</td>\n",
       "    </tr>\n",
       "    <tr>\n",
       "      <th>6</th>\n",
       "      <td>SK10043</td>\n",
       "      <td>0</td>\n",
       "      <td>0</td>\n",
       "      <td>0.0</td>\n",
       "      <td>0.0</td>\n",
       "      <td>0</td>\n",
       "      <td>0</td>\n",
       "      <td>True</td>\n",
       "      <td>level_0</td>\n",
       "    </tr>\n",
       "  </tbody>\n",
       "</table>\n",
       "</div>"
      ],
      "text/plain": [
       "    Skcode  nooforder  noofbrand  Totalvolume  KKvolume  \\\n",
       "0  SK10009          0          0          0.0       0.0   \n",
       "1  SK10021          0          0          0.0       0.0   \n",
       "4  SK10041          0          0          0.0       0.0   \n",
       "5  SK10042          0          0          0.0       0.0   \n",
       "6  SK10043          0          0          0.0       0.0   \n",
       "\n",
       "   SalesPersonPercentageorder  SelforderPercentage  active   levels  \n",
       "0                           0                    0    True  level_0  \n",
       "1                           0                    0    True  level_0  \n",
       "4                           0                    0    True  level_0  \n",
       "5                           0                    0    True  level_0  \n",
       "6                           0                    0    True  level_0  "
      ]
     },
     "execution_count": 50,
     "metadata": {},
     "output_type": "execute_result"
    }
   ],
   "source": [
    "df_level0 = df.loc[df['levels']=='level_0']\n",
    "df_level0.head()"
   ]
  },
  {
   "cell_type": "code",
   "execution_count": 51,
   "metadata": {},
   "outputs": [
    {
     "data": {
      "text/plain": [
       "Skcode                        1666\n",
       "nooforder                     1666\n",
       "noofbrand                     1666\n",
       "Totalvolume                   1666\n",
       "KKvolume                      1666\n",
       "SalesPersonPercentageorder    1666\n",
       "SelforderPercentage           1666\n",
       "active                        1666\n",
       "levels                        1666\n",
       "dtype: int64"
      ]
     },
     "execution_count": 51,
     "metadata": {},
     "output_type": "execute_result"
    }
   ],
   "source": [
    "df_level0.count()"
   ]
  },
  {
   "cell_type": "code",
   "execution_count": 52,
   "metadata": {},
   "outputs": [
    {
     "data": {
      "text/plain": [
       "Skcode                         SK9940\n",
       "nooforder                          11\n",
       "noofbrand                          33\n",
       "Totalvolume                    591408\n",
       "KKvolume                       247674\n",
       "SalesPersonPercentageorder        100\n",
       "SelforderPercentage               100\n",
       "active                           True\n",
       "levels                        level_1\n",
       "dtype: object"
      ]
     },
     "execution_count": 52,
     "metadata": {},
     "output_type": "execute_result"
    }
   ],
   "source": [
    "df_level1 = df.loc[df['levels']=='level_1']\n",
    "df_level1.max()"
   ]
  },
  {
   "cell_type": "code",
   "execution_count": 53,
   "metadata": {},
   "outputs": [
    {
     "data": {
      "text/plain": [
       "Skcode                        552\n",
       "nooforder                     552\n",
       "noofbrand                     552\n",
       "Totalvolume                   552\n",
       "KKvolume                      552\n",
       "SalesPersonPercentageorder    552\n",
       "SelforderPercentage           552\n",
       "active                        552\n",
       "levels                        552\n",
       "dtype: int64"
      ]
     },
     "execution_count": 53,
     "metadata": {},
     "output_type": "execute_result"
    }
   ],
   "source": [
    "df_level1.count()"
   ]
  },
  {
   "cell_type": "code",
   "execution_count": 54,
   "metadata": {},
   "outputs": [
    {
     "data": {
      "text/plain": [
       "Skcode                         SK9969\n",
       "nooforder                          62\n",
       "noofbrand                          49\n",
       "Totalvolume                    385232\n",
       "KKvolume                        67610\n",
       "SalesPersonPercentageorder        100\n",
       "SelforderPercentage               100\n",
       "active                           True\n",
       "levels                        level_2\n",
       "dtype: object"
      ]
     },
     "execution_count": 54,
     "metadata": {},
     "output_type": "execute_result"
    }
   ],
   "source": [
    "df_level2 = df.loc[df['levels']=='level_2']\n",
    "df_level2.max()"
   ]
  },
  {
   "cell_type": "code",
   "execution_count": 55,
   "metadata": {},
   "outputs": [
    {
     "data": {
      "text/plain": [
       "Skcode                        233\n",
       "nooforder                     233\n",
       "noofbrand                     233\n",
       "Totalvolume                   233\n",
       "KKvolume                      233\n",
       "SalesPersonPercentageorder    233\n",
       "SelforderPercentage           233\n",
       "active                        233\n",
       "levels                        233\n",
       "dtype: int64"
      ]
     },
     "execution_count": 55,
     "metadata": {},
     "output_type": "execute_result"
    }
   ],
   "source": [
    "df_level2.count()"
   ]
  },
  {
   "cell_type": "code",
   "execution_count": 56,
   "metadata": {},
   "outputs": [
    {
     "data": {
      "text/html": [
       "<div>\n",
       "<style scoped>\n",
       "    .dataframe tbody tr th:only-of-type {\n",
       "        vertical-align: middle;\n",
       "    }\n",
       "\n",
       "    .dataframe tbody tr th {\n",
       "        vertical-align: top;\n",
       "    }\n",
       "\n",
       "    .dataframe thead th {\n",
       "        text-align: right;\n",
       "    }\n",
       "</style>\n",
       "<table border=\"1\" class=\"dataframe\">\n",
       "  <thead>\n",
       "    <tr style=\"text-align: right;\">\n",
       "      <th></th>\n",
       "      <th>Skcode</th>\n",
       "      <th>nooforder</th>\n",
       "      <th>noofbrand</th>\n",
       "      <th>Totalvolume</th>\n",
       "      <th>KKvolume</th>\n",
       "      <th>SalesPersonPercentageorder</th>\n",
       "      <th>SelforderPercentage</th>\n",
       "      <th>active</th>\n",
       "      <th>levels</th>\n",
       "    </tr>\n",
       "  </thead>\n",
       "  <tbody>\n",
       "    <tr>\n",
       "      <th>29</th>\n",
       "      <td>SK10154</td>\n",
       "      <td>8</td>\n",
       "      <td>11</td>\n",
       "      <td>83766.181</td>\n",
       "      <td>5486.25</td>\n",
       "      <td>80</td>\n",
       "      <td>19</td>\n",
       "      <td>True</td>\n",
       "      <td>level_3</td>\n",
       "    </tr>\n",
       "    <tr>\n",
       "      <th>85</th>\n",
       "      <td>SK10427</td>\n",
       "      <td>7</td>\n",
       "      <td>12</td>\n",
       "      <td>28547.754</td>\n",
       "      <td>5486.25</td>\n",
       "      <td>88</td>\n",
       "      <td>11</td>\n",
       "      <td>True</td>\n",
       "      <td>level_3</td>\n",
       "    </tr>\n",
       "    <tr>\n",
       "      <th>208</th>\n",
       "      <td>SK14040</td>\n",
       "      <td>9</td>\n",
       "      <td>18</td>\n",
       "      <td>91358.418</td>\n",
       "      <td>2292.84</td>\n",
       "      <td>87</td>\n",
       "      <td>12</td>\n",
       "      <td>True</td>\n",
       "      <td>level_3</td>\n",
       "    </tr>\n",
       "    <tr>\n",
       "      <th>1115</th>\n",
       "      <td>SK19080</td>\n",
       "      <td>12</td>\n",
       "      <td>11</td>\n",
       "      <td>143462.461</td>\n",
       "      <td>31671.00</td>\n",
       "      <td>47</td>\n",
       "      <td>52</td>\n",
       "      <td>True</td>\n",
       "      <td>level_3</td>\n",
       "    </tr>\n",
       "    <tr>\n",
       "      <th>1734</th>\n",
       "      <td>SK20678</td>\n",
       "      <td>14</td>\n",
       "      <td>21</td>\n",
       "      <td>308749.926</td>\n",
       "      <td>38615.10</td>\n",
       "      <td>2</td>\n",
       "      <td>97</td>\n",
       "      <td>True</td>\n",
       "      <td>level_3</td>\n",
       "    </tr>\n",
       "  </tbody>\n",
       "</table>\n",
       "</div>"
      ],
      "text/plain": [
       "       Skcode  nooforder  noofbrand  Totalvolume  KKvolume  \\\n",
       "29    SK10154          8         11    83766.181   5486.25   \n",
       "85    SK10427          7         12    28547.754   5486.25   \n",
       "208   SK14040          9         18    91358.418   2292.84   \n",
       "1115  SK19080         12         11   143462.461  31671.00   \n",
       "1734  SK20678         14         21   308749.926  38615.10   \n",
       "\n",
       "      SalesPersonPercentageorder  SelforderPercentage  active   levels  \n",
       "29                            80                   19    True  level_3  \n",
       "85                            88                   11    True  level_3  \n",
       "208                           87                   12    True  level_3  \n",
       "1115                          47                   52    True  level_3  \n",
       "1734                           2                   97    True  level_3  "
      ]
     },
     "execution_count": 56,
     "metadata": {},
     "output_type": "execute_result"
    }
   ],
   "source": [
    "df_level3 = df.loc[df['levels']=='level_3']\n",
    "df_level3.head()"
   ]
  },
  {
   "cell_type": "code",
   "execution_count": 57,
   "metadata": {},
   "outputs": [
    {
     "data": {
      "text/plain": [
       "Skcode                        36\n",
       "nooforder                     36\n",
       "noofbrand                     36\n",
       "Totalvolume                   36\n",
       "KKvolume                      36\n",
       "SalesPersonPercentageorder    36\n",
       "SelforderPercentage           36\n",
       "active                        36\n",
       "levels                        36\n",
       "dtype: int64"
      ]
     },
     "execution_count": 57,
     "metadata": {},
     "output_type": "execute_result"
    }
   ],
   "source": [
    "df_level3.count()"
   ]
  },
  {
   "cell_type": "code",
   "execution_count": 58,
   "metadata": {},
   "outputs": [
    {
     "data": {
      "text/html": [
       "<div>\n",
       "<style scoped>\n",
       "    .dataframe tbody tr th:only-of-type {\n",
       "        vertical-align: middle;\n",
       "    }\n",
       "\n",
       "    .dataframe tbody tr th {\n",
       "        vertical-align: top;\n",
       "    }\n",
       "\n",
       "    .dataframe thead th {\n",
       "        text-align: right;\n",
       "    }\n",
       "</style>\n",
       "<table border=\"1\" class=\"dataframe\">\n",
       "  <thead>\n",
       "    <tr style=\"text-align: right;\">\n",
       "      <th></th>\n",
       "      <th>Skcode</th>\n",
       "      <th>nooforder</th>\n",
       "      <th>noofbrand</th>\n",
       "      <th>Totalvolume</th>\n",
       "      <th>KKvolume</th>\n",
       "      <th>SalesPersonPercentageorder</th>\n",
       "      <th>SelforderPercentage</th>\n",
       "      <th>active</th>\n",
       "      <th>levels</th>\n",
       "    </tr>\n",
       "  </thead>\n",
       "  <tbody>\n",
       "    <tr>\n",
       "      <th>3051</th>\n",
       "      <td>SK7510</td>\n",
       "      <td>14</td>\n",
       "      <td>30</td>\n",
       "      <td>511675.758</td>\n",
       "      <td>29051.500</td>\n",
       "      <td>98</td>\n",
       "      <td>1</td>\n",
       "      <td>True</td>\n",
       "      <td>level_4</td>\n",
       "    </tr>\n",
       "    <tr>\n",
       "      <th>3322</th>\n",
       "      <td>SK7906</td>\n",
       "      <td>11</td>\n",
       "      <td>31</td>\n",
       "      <td>184416.300</td>\n",
       "      <td>9420.300</td>\n",
       "      <td>95</td>\n",
       "      <td>4</td>\n",
       "      <td>True</td>\n",
       "      <td>level_4</td>\n",
       "    </tr>\n",
       "    <tr>\n",
       "      <th>4070</th>\n",
       "      <td>SK8856</td>\n",
       "      <td>16</td>\n",
       "      <td>32</td>\n",
       "      <td>116841.532</td>\n",
       "      <td>12599.550</td>\n",
       "      <td>38</td>\n",
       "      <td>61</td>\n",
       "      <td>True</td>\n",
       "      <td>level_4</td>\n",
       "    </tr>\n",
       "    <tr>\n",
       "      <th>4209</th>\n",
       "      <td>SK9614</td>\n",
       "      <td>45</td>\n",
       "      <td>32</td>\n",
       "      <td>521491.409</td>\n",
       "      <td>99002.855</td>\n",
       "      <td>75</td>\n",
       "      <td>24</td>\n",
       "      <td>True</td>\n",
       "      <td>level_4</td>\n",
       "    </tr>\n",
       "  </tbody>\n",
       "</table>\n",
       "</div>"
      ],
      "text/plain": [
       "      Skcode  nooforder  noofbrand  Totalvolume   KKvolume  \\\n",
       "3051  SK7510         14         30   511675.758  29051.500   \n",
       "3322  SK7906         11         31   184416.300   9420.300   \n",
       "4070  SK8856         16         32   116841.532  12599.550   \n",
       "4209  SK9614         45         32   521491.409  99002.855   \n",
       "\n",
       "      SalesPersonPercentageorder  SelforderPercentage  active   levels  \n",
       "3051                          98                    1    True  level_4  \n",
       "3322                          95                    4    True  level_4  \n",
       "4070                          38                   61    True  level_4  \n",
       "4209                          75                   24    True  level_4  "
      ]
     },
     "execution_count": 58,
     "metadata": {},
     "output_type": "execute_result"
    }
   ],
   "source": [
    "df_level4 = df.loc[df['levels']=='level_4']\n",
    "df_level4.head()"
   ]
  },
  {
   "cell_type": "code",
   "execution_count": 59,
   "metadata": {},
   "outputs": [
    {
     "data": {
      "text/plain": [
       "Skcode                        4\n",
       "nooforder                     4\n",
       "noofbrand                     4\n",
       "Totalvolume                   4\n",
       "KKvolume                      4\n",
       "SalesPersonPercentageorder    4\n",
       "SelforderPercentage           4\n",
       "active                        4\n",
       "levels                        4\n",
       "dtype: int64"
      ]
     },
     "execution_count": 59,
     "metadata": {},
     "output_type": "execute_result"
    }
   ],
   "source": [
    "df_level4.count()"
   ]
  },
  {
   "cell_type": "code",
   "execution_count": 60,
   "metadata": {},
   "outputs": [
    {
     "data": {
      "text/html": [
       "<div>\n",
       "<style scoped>\n",
       "    .dataframe tbody tr th:only-of-type {\n",
       "        vertical-align: middle;\n",
       "    }\n",
       "\n",
       "    .dataframe tbody tr th {\n",
       "        vertical-align: top;\n",
       "    }\n",
       "\n",
       "    .dataframe thead th {\n",
       "        text-align: right;\n",
       "    }\n",
       "</style>\n",
       "<table border=\"1\" class=\"dataframe\">\n",
       "  <thead>\n",
       "    <tr style=\"text-align: right;\">\n",
       "      <th></th>\n",
       "      <th>Skcode</th>\n",
       "      <th>nooforder</th>\n",
       "      <th>noofbrand</th>\n",
       "      <th>Totalvolume</th>\n",
       "      <th>KKvolume</th>\n",
       "      <th>SalesPersonPercentageorder</th>\n",
       "      <th>SelforderPercentage</th>\n",
       "      <th>active</th>\n",
       "      <th>levels</th>\n",
       "    </tr>\n",
       "  </thead>\n",
       "  <tbody>\n",
       "  </tbody>\n",
       "</table>\n",
       "</div>"
      ],
      "text/plain": [
       "Empty DataFrame\n",
       "Columns: [Skcode, nooforder, noofbrand, Totalvolume, KKvolume, SalesPersonPercentageorder, SelforderPercentage, active, levels]\n",
       "Index: []"
      ]
     },
     "execution_count": 60,
     "metadata": {},
     "output_type": "execute_result"
    }
   ],
   "source": [
    "df_level5 = df.loc[df['levels']=='level_5']\n",
    "df_level5.head()"
   ]
  },
  {
   "cell_type": "code",
   "execution_count": 61,
   "metadata": {},
   "outputs": [
    {
     "data": {
      "text/plain": [
       "Skcode                        0\n",
       "nooforder                     0\n",
       "noofbrand                     0\n",
       "Totalvolume                   0\n",
       "KKvolume                      0\n",
       "SalesPersonPercentageorder    0\n",
       "SelforderPercentage           0\n",
       "active                        0\n",
       "levels                        0\n",
       "dtype: int64"
      ]
     },
     "execution_count": 61,
     "metadata": {},
     "output_type": "execute_result"
    }
   ],
   "source": [
    "df_level5.count()"
   ]
  },
  {
   "cell_type": "code",
   "execution_count": null,
   "metadata": {},
   "outputs": [],
   "source": []
  },
  {
   "cell_type": "code",
   "execution_count": 62,
   "metadata": {},
   "outputs": [
    {
     "data": {
      "text/plain": [
       "nooforder                       0.000000\n",
       "noofbrand                       0.000000\n",
       "Totalvolume                     0.000000\n",
       "KKvolume                      155.675712\n",
       "SalesPersonPercentageorder      0.000000\n",
       "SelforderPercentage             0.000000\n",
       "active                          1.000000\n",
       "dtype: float64"
      ]
     },
     "execution_count": 62,
     "metadata": {},
     "output_type": "execute_result"
    }
   ],
   "source": [
    "df_level0.mean()"
   ]
  },
  {
   "cell_type": "code",
   "execution_count": null,
   "metadata": {},
   "outputs": [],
   "source": []
  },
  {
   "cell_type": "markdown",
   "metadata": {},
   "source": [
    "## writing data into the excel file"
   ]
  },
  {
   "cell_type": "code",
   "execution_count": null,
   "metadata": {},
   "outputs": [],
   "source": []
  },
  {
   "cell_type": "markdown",
   "metadata": {},
   "source": [
    "df_level0.to_excel('C:/Users/A.Kislaya/Downloads/level0.xlsx')\n",
    "df_level1.to_excel('C:/Users/A.Kislaya/Downloads/level1.xlsx')\n",
    "df_level2.to_excel('C:/Users/A.Kislaya/Downloads/level2.xlsx')\n",
    "df_level3.to_excel('C:/Users/A.Kislaya/Downloads/level3.xlsx')\n",
    "df_level4.to_excel('C:/Users/A.Kislaya/Downloads/level4.xlsx')\n",
    "df_level5.to_excel('C:/Users/A.Kislaya/Downloads/level5.xlsx')"
   ]
  },
  {
   "cell_type": "code",
   "execution_count": null,
   "metadata": {},
   "outputs": [],
   "source": []
  },
  {
   "cell_type": "code",
   "execution_count": 63,
   "metadata": {},
   "outputs": [
    {
     "data": {
      "text/plain": [
       "10430.371351449276"
      ]
     },
     "execution_count": 63,
     "metadata": {},
     "output_type": "execute_result"
    }
   ],
   "source": [
    "df_level1['Totalvolume'].mean()"
   ]
  },
  {
   "cell_type": "code",
   "execution_count": 64,
   "metadata": {},
   "outputs": [
    {
     "data": {
      "text/plain": [
       "44768.473497854065"
      ]
     },
     "execution_count": 64,
     "metadata": {},
     "output_type": "execute_result"
    }
   ],
   "source": [
    "df_level2['Totalvolume'].mean()"
   ]
  },
  {
   "cell_type": "code",
   "execution_count": 65,
   "metadata": {},
   "outputs": [
    {
     "data": {
      "text/plain": [
       "86804.43541666665"
      ]
     },
     "execution_count": 65,
     "metadata": {},
     "output_type": "execute_result"
    }
   ],
   "source": [
    "df_level3['Totalvolume'].mean()"
   ]
  },
  {
   "cell_type": "code",
   "execution_count": 66,
   "metadata": {},
   "outputs": [
    {
     "data": {
      "text/plain": [
       "333606.2497500001"
      ]
     },
     "execution_count": 66,
     "metadata": {},
     "output_type": "execute_result"
    }
   ],
   "source": [
    "df_level4['Totalvolume'].mean()"
   ]
  },
  {
   "cell_type": "code",
   "execution_count": 67,
   "metadata": {},
   "outputs": [
    {
     "data": {
      "text/plain": [
       "Skcode                       NaN\n",
       "nooforder                    NaN\n",
       "noofbrand                    NaN\n",
       "Totalvolume                  NaN\n",
       "KKvolume                     NaN\n",
       "SalesPersonPercentageorder   NaN\n",
       "SelforderPercentage          NaN\n",
       "active                       NaN\n",
       "levels                       NaN\n",
       "dtype: float64"
      ]
     },
     "execution_count": 67,
     "metadata": {},
     "output_type": "execute_result"
    }
   ],
   "source": [
    "df_level5.mean()"
   ]
  },
  {
   "cell_type": "code",
   "execution_count": null,
   "metadata": {},
   "outputs": [],
   "source": []
  },
  {
   "cell_type": "code",
   "execution_count": null,
   "metadata": {},
   "outputs": [],
   "source": []
  },
  {
   "cell_type": "code",
   "execution_count": null,
   "metadata": {},
   "outputs": [],
   "source": []
  },
  {
   "cell_type": "code",
   "execution_count": null,
   "metadata": {},
   "outputs": [],
   "source": []
  },
  {
   "cell_type": "markdown",
   "metadata": {},
   "source": [
    "## ALLOCATION BY SUM PERCENTAGE"
   ]
  },
  {
   "cell_type": "code",
   "execution_count": null,
   "metadata": {},
   "outputs": [],
   "source": []
  },
  {
   "cell_type": "code",
   "execution_count": null,
   "metadata": {},
   "outputs": [],
   "source": []
  },
  {
   "cell_type": "code",
   "execution_count": null,
   "metadata": {},
   "outputs": [],
   "source": []
  },
  {
   "cell_type": "code",
   "execution_count": 68,
   "metadata": {},
   "outputs": [],
   "source": [
    "def AllocationLevels(fund) :\n",
    "    l0_sum = df_level0['Totalvolume'].sum()\n",
    "    l1_sum = df_level1['Totalvolume'].sum()\n",
    "    l2_sum = df_level2['Totalvolume'].sum()\n",
    "    l3_sum = df_level3['Totalvolume'].sum()\n",
    "    l4_sum = df_level4['Totalvolume'].sum()\n",
    "    l5_sum = df_level5['Totalvolume'].sum()\n",
    "    summ = l0_sum + l1_sum + l2_sum + l3_sum +l4_sum + l5_sum\n",
    "    \n",
    "    l0_per = (l0_sum/summ)*100\n",
    "    l1_per = (l1_sum/summ)*100\n",
    "    l2_per = (l2_sum/summ)*100\n",
    "    l3_per = (l3_sum/summ)*100\n",
    "    l4_per = (l4_sum/summ)*100\n",
    "    l5_per = (l5_sum/summ)*100\n",
    "    \n",
    "    \n",
    "    amount_l0=l0_per*fund\n",
    "    amount_l1=l1_per*fund\n",
    "    amount_l2=l2_per*fund\n",
    "    amount_l3=l3_per*fund\n",
    "    amount_l4=l4_per*fund\n",
    "    amount_l5=l5_per*fund\n",
    "    \n",
    "    print(\"percentage share L0 level \",l0_per )\n",
    "    print(\"allocation amount L0 level \",amount_l0 )\n",
    "    print()\n",
    "    \n",
    "    print(\"percentage share L1 level \",l1_per )\n",
    "    print(\"allocation amount L1 level \",amount_l1 )\n",
    "    print()\n",
    "    \n",
    "    print(\"percentage allocation L2 level \",l2_per )\n",
    "    print(\"allocation amount L2 level \",amount_l2 )\n",
    "    print()\n",
    "    \n",
    "    print(\"percentage allocation L3 level \",l3_per )\n",
    "    print(\"allocation amount L3 level \",amount_l3 )\n",
    "    print()\n",
    "    \n",
    "    print(\"percentage allocation L4 level \",l4_per )\n",
    "    print(\"allocation amount L4 level \",amount_l4 )\n",
    "    print()\n",
    "    \n",
    "    print(\"percentage allocation L5 level \",l5_per )\n",
    "    print(\"allocation amount L5 level \",amount_l5 )\n",
    "    print()\n",
    "    \n",
    "\n",
    "    "
   ]
  },
  {
   "cell_type": "code",
   "execution_count": null,
   "metadata": {},
   "outputs": [],
   "source": []
  },
  {
   "cell_type": "code",
   "execution_count": 69,
   "metadata": {},
   "outputs": [
    {
     "name": "stdin",
     "output_type": "stream",
     "text": [
      "Enter the offer fund to be allocated 100000\n"
     ]
    },
    {
     "name": "stdout",
     "output_type": "stream",
     "text": [
      "percentage share L0 level  0.0\n",
      "allocation amount L0 level  0.0\n",
      "\n",
      "percentage share L1 level  27.884365918287575\n",
      "allocation amount L1 level  2788436.5918287574\n",
      "\n",
      "percentage allocation L2 level  50.51846334676111\n",
      "allocation amount L2 level  5051846.334676111\n",
      "\n",
      "percentage allocation L3 level  15.13443951904584\n",
      "allocation amount L3 level  1513443.951904584\n",
      "\n",
      "percentage allocation L4 level  6.462731215905469\n",
      "allocation amount L4 level  646273.1215905469\n",
      "\n",
      "percentage allocation L5 level  0.0\n",
      "allocation amount L5 level  0.0\n",
      "\n"
     ]
    }
   ],
   "source": [
    "if __name__ == \"__main__\":\n",
    "    fund = int(input(\"Enter the offer fund to be allocated\"))\n",
    "    AllocationLevels(fund)"
   ]
  },
  {
   "cell_type": "code",
   "execution_count": null,
   "metadata": {},
   "outputs": [],
   "source": []
  },
  {
   "cell_type": "code",
   "execution_count": null,
   "metadata": {},
   "outputs": [],
   "source": []
  },
  {
   "cell_type": "code",
   "execution_count": null,
   "metadata": {},
   "outputs": [],
   "source": []
  },
  {
   "cell_type": "code",
   "execution_count": null,
   "metadata": {},
   "outputs": [],
   "source": []
  },
  {
   "cell_type": "code",
   "execution_count": null,
   "metadata": {},
   "outputs": [],
   "source": []
  },
  {
   "cell_type": "code",
   "execution_count": null,
   "metadata": {},
   "outputs": [],
   "source": []
  },
  {
   "cell_type": "code",
   "execution_count": 70,
   "metadata": {},
   "outputs": [
    {
     "data": {
      "text/plain": [
       "5757564.986"
      ]
     },
     "execution_count": 70,
     "metadata": {},
     "output_type": "execute_result"
    }
   ],
   "source": [
    "l1_sum = df_level1['Totalvolume'].sum()\n",
    "l1_sum"
   ]
  },
  {
   "cell_type": "code",
   "execution_count": 71,
   "metadata": {},
   "outputs": [
    {
     "data": {
      "text/plain": [
       "10431054.325"
      ]
     },
     "execution_count": 71,
     "metadata": {},
     "output_type": "execute_result"
    }
   ],
   "source": [
    "l2_sum = df_level2['Totalvolume'].sum()\n",
    "l2_sum"
   ]
  },
  {
   "cell_type": "code",
   "execution_count": 72,
   "metadata": {},
   "outputs": [
    {
     "data": {
      "text/plain": [
       "3124959.675"
      ]
     },
     "execution_count": 72,
     "metadata": {},
     "output_type": "execute_result"
    }
   ],
   "source": [
    "l3_sum = df_level3['Totalvolume'].sum()\n",
    "l3_sum"
   ]
  },
  {
   "cell_type": "code",
   "execution_count": 73,
   "metadata": {},
   "outputs": [
    {
     "data": {
      "text/plain": [
       "1334424.9990000003"
      ]
     },
     "execution_count": 73,
     "metadata": {},
     "output_type": "execute_result"
    }
   ],
   "source": [
    "l4_sum=df_level4['Totalvolume'].sum()\n",
    "l4_sum"
   ]
  },
  {
   "cell_type": "code",
   "execution_count": 74,
   "metadata": {},
   "outputs": [
    {
     "data": {
      "text/plain": [
       "20648003.985"
      ]
     },
     "execution_count": 74,
     "metadata": {},
     "output_type": "execute_result"
    }
   ],
   "source": [
    "sum = l1_sum + l2_sum + l3_sum +l4_sum\n",
    "sum"
   ]
  },
  {
   "cell_type": "code",
   "execution_count": 75,
   "metadata": {},
   "outputs": [],
   "source": [
    "l1_per = (l1_sum/sum)\n",
    "l2_per = (l2_sum/sum)\n",
    "l3_per = (l3_sum/sum)\n",
    "l4_per = (l4_sum/sum)"
   ]
  },
  {
   "cell_type": "code",
   "execution_count": 76,
   "metadata": {},
   "outputs": [
    {
     "data": {
      "text/plain": [
       "0.27884365918287574"
      ]
     },
     "execution_count": 76,
     "metadata": {},
     "output_type": "execute_result"
    }
   ],
   "source": [
    "l1_per \n"
   ]
  },
  {
   "cell_type": "code",
   "execution_count": 77,
   "metadata": {},
   "outputs": [
    {
     "data": {
      "text/plain": [
       "0.5051846334676111"
      ]
     },
     "execution_count": 77,
     "metadata": {},
     "output_type": "execute_result"
    }
   ],
   "source": [
    "l2_per\n"
   ]
  },
  {
   "cell_type": "code",
   "execution_count": 78,
   "metadata": {},
   "outputs": [
    {
     "data": {
      "text/plain": [
       "0.1513443951904584"
      ]
     },
     "execution_count": 78,
     "metadata": {},
     "output_type": "execute_result"
    }
   ],
   "source": [
    "l3_per\n"
   ]
  },
  {
   "cell_type": "code",
   "execution_count": 79,
   "metadata": {},
   "outputs": [
    {
     "data": {
      "text/plain": [
       "0.06462731215905469"
      ]
     },
     "execution_count": 79,
     "metadata": {},
     "output_type": "execute_result"
    }
   ],
   "source": [
    "l4_per "
   ]
  },
  {
   "cell_type": "code",
   "execution_count": null,
   "metadata": {},
   "outputs": [],
   "source": []
  },
  {
   "cell_type": "code",
   "execution_count": 80,
   "metadata": {},
   "outputs": [],
   "source": [
    "investment = 100000"
   ]
  },
  {
   "cell_type": "code",
   "execution_count": 81,
   "metadata": {},
   "outputs": [],
   "source": [
    "amount_l1=l1_per*investment\n",
    "amount_l2=l2_per*investment\n",
    "amount_l3=l3_per*investment\n",
    "amount_l4=l4_per*investment"
   ]
  },
  {
   "cell_type": "code",
   "execution_count": 82,
   "metadata": {},
   "outputs": [
    {
     "data": {
      "text/plain": [
       "27884.365918287574"
      ]
     },
     "execution_count": 82,
     "metadata": {},
     "output_type": "execute_result"
    }
   ],
   "source": [
    "amount_l1"
   ]
  },
  {
   "cell_type": "code",
   "execution_count": 83,
   "metadata": {},
   "outputs": [
    {
     "data": {
      "text/plain": [
       "50518.46334676111"
      ]
     },
     "execution_count": 83,
     "metadata": {},
     "output_type": "execute_result"
    }
   ],
   "source": [
    "amount_l2"
   ]
  },
  {
   "cell_type": "code",
   "execution_count": 84,
   "metadata": {},
   "outputs": [
    {
     "data": {
      "text/plain": [
       "15134.43951904584"
      ]
     },
     "execution_count": 84,
     "metadata": {},
     "output_type": "execute_result"
    }
   ],
   "source": [
    "amount_l3"
   ]
  },
  {
   "cell_type": "code",
   "execution_count": 85,
   "metadata": {},
   "outputs": [
    {
     "data": {
      "text/plain": [
       "6462.731215905469"
      ]
     },
     "execution_count": 85,
     "metadata": {},
     "output_type": "execute_result"
    }
   ],
   "source": [
    "amount_l4"
   ]
  },
  {
   "cell_type": "code",
   "execution_count": null,
   "metadata": {},
   "outputs": [],
   "source": []
  },
  {
   "cell_type": "code",
   "execution_count": 86,
   "metadata": {},
   "outputs": [
    {
     "data": {
      "text/html": [
       "<div>\n",
       "<style scoped>\n",
       "    .dataframe tbody tr th:only-of-type {\n",
       "        vertical-align: middle;\n",
       "    }\n",
       "\n",
       "    .dataframe tbody tr th {\n",
       "        vertical-align: top;\n",
       "    }\n",
       "\n",
       "    .dataframe thead th {\n",
       "        text-align: right;\n",
       "    }\n",
       "</style>\n",
       "<table border=\"1\" class=\"dataframe\">\n",
       "  <thead>\n",
       "    <tr style=\"text-align: right;\">\n",
       "      <th></th>\n",
       "      <th>Skcode</th>\n",
       "      <th>nooforder</th>\n",
       "      <th>noofbrand</th>\n",
       "      <th>Totalvolume</th>\n",
       "      <th>KKvolume</th>\n",
       "      <th>SalesPersonPercentageorder</th>\n",
       "      <th>SelforderPercentage</th>\n",
       "      <th>active</th>\n",
       "      <th>levels</th>\n",
       "    </tr>\n",
       "  </thead>\n",
       "  <tbody>\n",
       "    <tr>\n",
       "      <th>7</th>\n",
       "      <td>SK10044</td>\n",
       "      <td>24</td>\n",
       "      <td>29</td>\n",
       "      <td>239042.063</td>\n",
       "      <td>838.20</td>\n",
       "      <td>97</td>\n",
       "      <td>2</td>\n",
       "      <td>True</td>\n",
       "      <td>level_2</td>\n",
       "    </tr>\n",
       "    <tr>\n",
       "      <th>25</th>\n",
       "      <td>SK10121</td>\n",
       "      <td>3</td>\n",
       "      <td>5</td>\n",
       "      <td>19956.880</td>\n",
       "      <td>0.00</td>\n",
       "      <td>100</td>\n",
       "      <td>0</td>\n",
       "      <td>True</td>\n",
       "      <td>level_2</td>\n",
       "    </tr>\n",
       "    <tr>\n",
       "      <th>27</th>\n",
       "      <td>SK10150</td>\n",
       "      <td>4</td>\n",
       "      <td>36</td>\n",
       "      <td>45946.964</td>\n",
       "      <td>0.00</td>\n",
       "      <td>0</td>\n",
       "      <td>100</td>\n",
       "      <td>True</td>\n",
       "      <td>level_2</td>\n",
       "    </tr>\n",
       "    <tr>\n",
       "      <th>43</th>\n",
       "      <td>SK10202</td>\n",
       "      <td>4</td>\n",
       "      <td>23</td>\n",
       "      <td>51223.978</td>\n",
       "      <td>7763.07</td>\n",
       "      <td>100</td>\n",
       "      <td>0</td>\n",
       "      <td>True</td>\n",
       "      <td>level_2</td>\n",
       "    </tr>\n",
       "    <tr>\n",
       "      <th>45</th>\n",
       "      <td>SK10209</td>\n",
       "      <td>3</td>\n",
       "      <td>7</td>\n",
       "      <td>23630.302</td>\n",
       "      <td>30068.13</td>\n",
       "      <td>92</td>\n",
       "      <td>7</td>\n",
       "      <td>True</td>\n",
       "      <td>level_2</td>\n",
       "    </tr>\n",
       "  </tbody>\n",
       "</table>\n",
       "</div>"
      ],
      "text/plain": [
       "     Skcode  nooforder  noofbrand  Totalvolume  KKvolume  \\\n",
       "7   SK10044         24         29   239042.063    838.20   \n",
       "25  SK10121          3          5    19956.880      0.00   \n",
       "27  SK10150          4         36    45946.964      0.00   \n",
       "43  SK10202          4         23    51223.978   7763.07   \n",
       "45  SK10209          3          7    23630.302  30068.13   \n",
       "\n",
       "    SalesPersonPercentageorder  SelforderPercentage  active   levels  \n",
       "7                           97                    2    True  level_2  \n",
       "25                         100                    0    True  level_2  \n",
       "27                           0                  100    True  level_2  \n",
       "43                         100                    0    True  level_2  \n",
       "45                          92                    7    True  level_2  "
      ]
     },
     "execution_count": 86,
     "metadata": {},
     "output_type": "execute_result"
    }
   ],
   "source": [
    "df_level2.head()"
   ]
  },
  {
   "cell_type": "code",
   "execution_count": 87,
   "metadata": {},
   "outputs": [
    {
     "data": {
      "text/html": [
       "<div>\n",
       "<style scoped>\n",
       "    .dataframe tbody tr th:only-of-type {\n",
       "        vertical-align: middle;\n",
       "    }\n",
       "\n",
       "    .dataframe tbody tr th {\n",
       "        vertical-align: top;\n",
       "    }\n",
       "\n",
       "    .dataframe thead th {\n",
       "        text-align: right;\n",
       "    }\n",
       "</style>\n",
       "<table border=\"1\" class=\"dataframe\">\n",
       "  <thead>\n",
       "    <tr style=\"text-align: right;\">\n",
       "      <th></th>\n",
       "      <th>Skcode</th>\n",
       "      <th>Totalvolume</th>\n",
       "    </tr>\n",
       "  </thead>\n",
       "  <tbody>\n",
       "    <tr>\n",
       "      <th>3494</th>\n",
       "      <td>SK8189</td>\n",
       "      <td>385231.746</td>\n",
       "    </tr>\n",
       "    <tr>\n",
       "      <th>3715</th>\n",
       "      <td>SK8429</td>\n",
       "      <td>385187.676</td>\n",
       "    </tr>\n",
       "    <tr>\n",
       "      <th>3877</th>\n",
       "      <td>SK8599</td>\n",
       "      <td>369252.909</td>\n",
       "    </tr>\n",
       "    <tr>\n",
       "      <th>3414</th>\n",
       "      <td>SK8067</td>\n",
       "      <td>270410.544</td>\n",
       "    </tr>\n",
       "    <tr>\n",
       "      <th>3376</th>\n",
       "      <td>SK7981</td>\n",
       "      <td>247579.580</td>\n",
       "    </tr>\n",
       "  </tbody>\n",
       "</table>\n",
       "</div>"
      ],
      "text/plain": [
       "      Skcode  Totalvolume\n",
       "3494  SK8189   385231.746\n",
       "3715  SK8429   385187.676\n",
       "3877  SK8599   369252.909\n",
       "3414  SK8067   270410.544\n",
       "3376  SK7981   247579.580"
      ]
     },
     "execution_count": 87,
     "metadata": {},
     "output_type": "execute_result"
    }
   ],
   "source": [
    "level2_allocation=df_level2[['Skcode','Totalvolume']]\n",
    "level2_allocation=level2_allocation.sort_values(by='Totalvolume',ascending=False)\n",
    "level2_allocation.head()"
   ]
  },
  {
   "cell_type": "code",
   "execution_count": null,
   "metadata": {},
   "outputs": [],
   "source": []
  },
  {
   "cell_type": "code",
   "execution_count": 88,
   "metadata": {},
   "outputs": [],
   "source": [
    "sum2=level2_allocation['Totalvolume'].sum()"
   ]
  },
  {
   "cell_type": "code",
   "execution_count": null,
   "metadata": {},
   "outputs": [],
   "source": []
  },
  {
   "cell_type": "code",
   "execution_count": 89,
   "metadata": {},
   "outputs": [],
   "source": [
    "level2_allocation['allocation'] = (level2_allocation['Totalvolume']/sum2) * amount_l2"
   ]
  },
  {
   "cell_type": "code",
   "execution_count": null,
   "metadata": {},
   "outputs": [],
   "source": []
  },
  {
   "cell_type": "code",
   "execution_count": null,
   "metadata": {},
   "outputs": [],
   "source": []
  },
  {
   "cell_type": "code",
   "execution_count": 90,
   "metadata": {},
   "outputs": [
    {
     "data": {
      "text/html": [
       "<div>\n",
       "<style scoped>\n",
       "    .dataframe tbody tr th:only-of-type {\n",
       "        vertical-align: middle;\n",
       "    }\n",
       "\n",
       "    .dataframe tbody tr th {\n",
       "        vertical-align: top;\n",
       "    }\n",
       "\n",
       "    .dataframe thead th {\n",
       "        text-align: right;\n",
       "    }\n",
       "</style>\n",
       "<table border=\"1\" class=\"dataframe\">\n",
       "  <thead>\n",
       "    <tr style=\"text-align: right;\">\n",
       "      <th></th>\n",
       "      <th>Skcode</th>\n",
       "      <th>Totalvolume</th>\n",
       "      <th>allocation</th>\n",
       "    </tr>\n",
       "  </thead>\n",
       "  <tbody>\n",
       "    <tr>\n",
       "      <th>3494</th>\n",
       "      <td>SK8189</td>\n",
       "      <td>385231.746</td>\n",
       "      <td>1865.709375</td>\n",
       "    </tr>\n",
       "    <tr>\n",
       "      <th>3715</th>\n",
       "      <td>SK8429</td>\n",
       "      <td>385187.676</td>\n",
       "      <td>1865.495940</td>\n",
       "    </tr>\n",
       "    <tr>\n",
       "      <th>3877</th>\n",
       "      <td>SK8599</td>\n",
       "      <td>369252.909</td>\n",
       "      <td>1788.322538</td>\n",
       "    </tr>\n",
       "    <tr>\n",
       "      <th>3414</th>\n",
       "      <td>SK8067</td>\n",
       "      <td>270410.544</td>\n",
       "      <td>1309.620747</td>\n",
       "    </tr>\n",
       "    <tr>\n",
       "      <th>3376</th>\n",
       "      <td>SK7981</td>\n",
       "      <td>247579.580</td>\n",
       "      <td>1199.048490</td>\n",
       "    </tr>\n",
       "    <tr>\n",
       "      <th>7</th>\n",
       "      <td>SK10044</td>\n",
       "      <td>239042.063</td>\n",
       "      <td>1157.700585</td>\n",
       "    </tr>\n",
       "    <tr>\n",
       "      <th>108</th>\n",
       "      <td>SK10597</td>\n",
       "      <td>236283.890</td>\n",
       "      <td>1144.342524</td>\n",
       "    </tr>\n",
       "    <tr>\n",
       "      <th>4131</th>\n",
       "      <td>SK9175</td>\n",
       "      <td>233867.202</td>\n",
       "      <td>1132.638303</td>\n",
       "    </tr>\n",
       "    <tr>\n",
       "      <th>1349</th>\n",
       "      <td>SK19726</td>\n",
       "      <td>212981.019</td>\n",
       "      <td>1031.484783</td>\n",
       "    </tr>\n",
       "    <tr>\n",
       "      <th>4194</th>\n",
       "      <td>SK9477</td>\n",
       "      <td>207927.170</td>\n",
       "      <td>1007.008572</td>\n",
       "    </tr>\n",
       "    <tr>\n",
       "      <th>3599</th>\n",
       "      <td>SK8303</td>\n",
       "      <td>178017.436</td>\n",
       "      <td>862.153243</td>\n",
       "    </tr>\n",
       "    <tr>\n",
       "      <th>2109</th>\n",
       "      <td>SK4036</td>\n",
       "      <td>176746.010</td>\n",
       "      <td>855.995621</td>\n",
       "    </tr>\n",
       "    <tr>\n",
       "      <th>3170</th>\n",
       "      <td>SK7665</td>\n",
       "      <td>175746.714</td>\n",
       "      <td>851.155948</td>\n",
       "    </tr>\n",
       "    <tr>\n",
       "      <th>4179</th>\n",
       "      <td>SK9395</td>\n",
       "      <td>149370.260</td>\n",
       "      <td>723.412588</td>\n",
       "    </tr>\n",
       "    <tr>\n",
       "      <th>4164</th>\n",
       "      <td>SK9323</td>\n",
       "      <td>133140.112</td>\n",
       "      <td>644.808632</td>\n",
       "    </tr>\n",
       "    <tr>\n",
       "      <th>3238</th>\n",
       "      <td>SK7765</td>\n",
       "      <td>132523.721</td>\n",
       "      <td>641.823399</td>\n",
       "    </tr>\n",
       "    <tr>\n",
       "      <th>3953</th>\n",
       "      <td>SK8705</td>\n",
       "      <td>129898.846</td>\n",
       "      <td>629.110911</td>\n",
       "    </tr>\n",
       "    <tr>\n",
       "      <th>2927</th>\n",
       "      <td>SK4887</td>\n",
       "      <td>129563.977</td>\n",
       "      <td>627.489113</td>\n",
       "    </tr>\n",
       "    <tr>\n",
       "      <th>4188</th>\n",
       "      <td>SK9445</td>\n",
       "      <td>129098.084</td>\n",
       "      <td>625.232754</td>\n",
       "    </tr>\n",
       "    <tr>\n",
       "      <th>4139</th>\n",
       "      <td>SK9205</td>\n",
       "      <td>110086.430</td>\n",
       "      <td>533.157733</td>\n",
       "    </tr>\n",
       "    <tr>\n",
       "      <th>3524</th>\n",
       "      <td>SK8225</td>\n",
       "      <td>109614.710</td>\n",
       "      <td>530.873154</td>\n",
       "    </tr>\n",
       "    <tr>\n",
       "      <th>3909</th>\n",
       "      <td>SK8644</td>\n",
       "      <td>107769.330</td>\n",
       "      <td>521.935825</td>\n",
       "    </tr>\n",
       "    <tr>\n",
       "      <th>1446</th>\n",
       "      <td>SK19959</td>\n",
       "      <td>101897.898</td>\n",
       "      <td>493.499992</td>\n",
       "    </tr>\n",
       "    <tr>\n",
       "      <th>3244</th>\n",
       "      <td>SK7771</td>\n",
       "      <td>99976.062</td>\n",
       "      <td>484.192380</td>\n",
       "    </tr>\n",
       "    <tr>\n",
       "      <th>3861</th>\n",
       "      <td>SK8582</td>\n",
       "      <td>95723.655</td>\n",
       "      <td>463.597620</td>\n",
       "    </tr>\n",
       "    <tr>\n",
       "      <th>4067</th>\n",
       "      <td>SK8853</td>\n",
       "      <td>89099.748</td>\n",
       "      <td>431.517487</td>\n",
       "    </tr>\n",
       "    <tr>\n",
       "      <th>4182</th>\n",
       "      <td>SK9404</td>\n",
       "      <td>83021.279</td>\n",
       "      <td>402.078957</td>\n",
       "    </tr>\n",
       "    <tr>\n",
       "      <th>2330</th>\n",
       "      <td>SK4260</td>\n",
       "      <td>81437.792</td>\n",
       "      <td>394.409997</td>\n",
       "    </tr>\n",
       "    <tr>\n",
       "      <th>3949</th>\n",
       "      <td>SK8700</td>\n",
       "      <td>79555.202</td>\n",
       "      <td>385.292458</td>\n",
       "    </tr>\n",
       "    <tr>\n",
       "      <th>4162</th>\n",
       "      <td>SK9315</td>\n",
       "      <td>75540.252</td>\n",
       "      <td>365.847721</td>\n",
       "    </tr>\n",
       "    <tr>\n",
       "      <th>...</th>\n",
       "      <td>...</td>\n",
       "      <td>...</td>\n",
       "      <td>...</td>\n",
       "    </tr>\n",
       "    <tr>\n",
       "      <th>3350</th>\n",
       "      <td>SK7946</td>\n",
       "      <td>13071.517</td>\n",
       "      <td>63.306444</td>\n",
       "    </tr>\n",
       "    <tr>\n",
       "      <th>2163</th>\n",
       "      <td>SK4091</td>\n",
       "      <td>12942.774</td>\n",
       "      <td>62.682931</td>\n",
       "    </tr>\n",
       "    <tr>\n",
       "      <th>3106</th>\n",
       "      <td>SK7574</td>\n",
       "      <td>12758.632</td>\n",
       "      <td>61.791116</td>\n",
       "    </tr>\n",
       "    <tr>\n",
       "      <th>4094</th>\n",
       "      <td>SK8888</td>\n",
       "      <td>12654.504</td>\n",
       "      <td>61.286815</td>\n",
       "    </tr>\n",
       "    <tr>\n",
       "      <th>3497</th>\n",
       "      <td>SK8192</td>\n",
       "      <td>12593.882</td>\n",
       "      <td>60.993218</td>\n",
       "    </tr>\n",
       "    <tr>\n",
       "      <th>2334</th>\n",
       "      <td>SK4264</td>\n",
       "      <td>12449.634</td>\n",
       "      <td>60.294613</td>\n",
       "    </tr>\n",
       "    <tr>\n",
       "      <th>2995</th>\n",
       "      <td>SK4961</td>\n",
       "      <td>12353.640</td>\n",
       "      <td>59.829706</td>\n",
       "    </tr>\n",
       "    <tr>\n",
       "      <th>4054</th>\n",
       "      <td>SK8838</td>\n",
       "      <td>12291.565</td>\n",
       "      <td>59.529071</td>\n",
       "    </tr>\n",
       "    <tr>\n",
       "      <th>3229</th>\n",
       "      <td>SK7750</td>\n",
       "      <td>12274.322</td>\n",
       "      <td>59.445562</td>\n",
       "    </tr>\n",
       "    <tr>\n",
       "      <th>3331</th>\n",
       "      <td>SK7921</td>\n",
       "      <td>12158.795</td>\n",
       "      <td>58.886055</td>\n",
       "    </tr>\n",
       "    <tr>\n",
       "      <th>4022</th>\n",
       "      <td>SK8796</td>\n",
       "      <td>12088.127</td>\n",
       "      <td>58.543804</td>\n",
       "    </tr>\n",
       "    <tr>\n",
       "      <th>443</th>\n",
       "      <td>SK16323</td>\n",
       "      <td>11693.899</td>\n",
       "      <td>56.634525</td>\n",
       "    </tr>\n",
       "    <tr>\n",
       "      <th>3787</th>\n",
       "      <td>SK8504</td>\n",
       "      <td>11628.618</td>\n",
       "      <td>56.318364</td>\n",
       "    </tr>\n",
       "    <tr>\n",
       "      <th>3916</th>\n",
       "      <td>SK8652</td>\n",
       "      <td>11443.018</td>\n",
       "      <td>55.419488</td>\n",
       "    </tr>\n",
       "    <tr>\n",
       "      <th>1280</th>\n",
       "      <td>SK19580</td>\n",
       "      <td>11395.453</td>\n",
       "      <td>55.189126</td>\n",
       "    </tr>\n",
       "    <tr>\n",
       "      <th>2465</th>\n",
       "      <td>SK4397</td>\n",
       "      <td>11322.960</td>\n",
       "      <td>54.838037</td>\n",
       "    </tr>\n",
       "    <tr>\n",
       "      <th>3345</th>\n",
       "      <td>SK7940</td>\n",
       "      <td>11286.059</td>\n",
       "      <td>54.659322</td>\n",
       "    </tr>\n",
       "    <tr>\n",
       "      <th>2584</th>\n",
       "      <td>SK4523</td>\n",
       "      <td>10844.904</td>\n",
       "      <td>52.522772</td>\n",
       "    </tr>\n",
       "    <tr>\n",
       "      <th>2598</th>\n",
       "      <td>SK4537</td>\n",
       "      <td>10840.910</td>\n",
       "      <td>52.503428</td>\n",
       "    </tr>\n",
       "    <tr>\n",
       "      <th>4276</th>\n",
       "      <td>SK9845</td>\n",
       "      <td>10838.444</td>\n",
       "      <td>52.491485</td>\n",
       "    </tr>\n",
       "    <tr>\n",
       "      <th>3224</th>\n",
       "      <td>SK7742</td>\n",
       "      <td>10683.790</td>\n",
       "      <td>51.742483</td>\n",
       "    </tr>\n",
       "    <tr>\n",
       "      <th>2129</th>\n",
       "      <td>SK4056</td>\n",
       "      <td>10626.924</td>\n",
       "      <td>51.467076</td>\n",
       "    </tr>\n",
       "    <tr>\n",
       "      <th>3698</th>\n",
       "      <td>SK8410</td>\n",
       "      <td>10502.972</td>\n",
       "      <td>50.866767</td>\n",
       "    </tr>\n",
       "    <tr>\n",
       "      <th>3111</th>\n",
       "      <td>SK7579</td>\n",
       "      <td>10463.356</td>\n",
       "      <td>50.674903</td>\n",
       "    </tr>\n",
       "    <tr>\n",
       "      <th>2513</th>\n",
       "      <td>SK4447</td>\n",
       "      <td>10331.982</td>\n",
       "      <td>50.038648</td>\n",
       "    </tr>\n",
       "    <tr>\n",
       "      <th>3474</th>\n",
       "      <td>SK8162</td>\n",
       "      <td>10258.356</td>\n",
       "      <td>49.682071</td>\n",
       "    </tr>\n",
       "    <tr>\n",
       "      <th>3249</th>\n",
       "      <td>SK7777</td>\n",
       "      <td>10134.562</td>\n",
       "      <td>49.082526</td>\n",
       "    </tr>\n",
       "    <tr>\n",
       "      <th>4037</th>\n",
       "      <td>SK8815</td>\n",
       "      <td>10121.683</td>\n",
       "      <td>49.020152</td>\n",
       "    </tr>\n",
       "    <tr>\n",
       "      <th>2736</th>\n",
       "      <td>SK4677</td>\n",
       "      <td>10092.053</td>\n",
       "      <td>48.876652</td>\n",
       "    </tr>\n",
       "    <tr>\n",
       "      <th>2689</th>\n",
       "      <td>SK4630</td>\n",
       "      <td>10033.567</td>\n",
       "      <td>48.593399</td>\n",
       "    </tr>\n",
       "  </tbody>\n",
       "</table>\n",
       "<p>233 rows × 3 columns</p>\n",
       "</div>"
      ],
      "text/plain": [
       "       Skcode  Totalvolume   allocation\n",
       "3494   SK8189   385231.746  1865.709375\n",
       "3715   SK8429   385187.676  1865.495940\n",
       "3877   SK8599   369252.909  1788.322538\n",
       "3414   SK8067   270410.544  1309.620747\n",
       "3376   SK7981   247579.580  1199.048490\n",
       "7     SK10044   239042.063  1157.700585\n",
       "108   SK10597   236283.890  1144.342524\n",
       "4131   SK9175   233867.202  1132.638303\n",
       "1349  SK19726   212981.019  1031.484783\n",
       "4194   SK9477   207927.170  1007.008572\n",
       "3599   SK8303   178017.436   862.153243\n",
       "2109   SK4036   176746.010   855.995621\n",
       "3170   SK7665   175746.714   851.155948\n",
       "4179   SK9395   149370.260   723.412588\n",
       "4164   SK9323   133140.112   644.808632\n",
       "3238   SK7765   132523.721   641.823399\n",
       "3953   SK8705   129898.846   629.110911\n",
       "2927   SK4887   129563.977   627.489113\n",
       "4188   SK9445   129098.084   625.232754\n",
       "4139   SK9205   110086.430   533.157733\n",
       "3524   SK8225   109614.710   530.873154\n",
       "3909   SK8644   107769.330   521.935825\n",
       "1446  SK19959   101897.898   493.499992\n",
       "3244   SK7771    99976.062   484.192380\n",
       "3861   SK8582    95723.655   463.597620\n",
       "4067   SK8853    89099.748   431.517487\n",
       "4182   SK9404    83021.279   402.078957\n",
       "2330   SK4260    81437.792   394.409997\n",
       "3949   SK8700    79555.202   385.292458\n",
       "4162   SK9315    75540.252   365.847721\n",
       "...       ...          ...          ...\n",
       "3350   SK7946    13071.517    63.306444\n",
       "2163   SK4091    12942.774    62.682931\n",
       "3106   SK7574    12758.632    61.791116\n",
       "4094   SK8888    12654.504    61.286815\n",
       "3497   SK8192    12593.882    60.993218\n",
       "2334   SK4264    12449.634    60.294613\n",
       "2995   SK4961    12353.640    59.829706\n",
       "4054   SK8838    12291.565    59.529071\n",
       "3229   SK7750    12274.322    59.445562\n",
       "3331   SK7921    12158.795    58.886055\n",
       "4022   SK8796    12088.127    58.543804\n",
       "443   SK16323    11693.899    56.634525\n",
       "3787   SK8504    11628.618    56.318364\n",
       "3916   SK8652    11443.018    55.419488\n",
       "1280  SK19580    11395.453    55.189126\n",
       "2465   SK4397    11322.960    54.838037\n",
       "3345   SK7940    11286.059    54.659322\n",
       "2584   SK4523    10844.904    52.522772\n",
       "2598   SK4537    10840.910    52.503428\n",
       "4276   SK9845    10838.444    52.491485\n",
       "3224   SK7742    10683.790    51.742483\n",
       "2129   SK4056    10626.924    51.467076\n",
       "3698   SK8410    10502.972    50.866767\n",
       "3111   SK7579    10463.356    50.674903\n",
       "2513   SK4447    10331.982    50.038648\n",
       "3474   SK8162    10258.356    49.682071\n",
       "3249   SK7777    10134.562    49.082526\n",
       "4037   SK8815    10121.683    49.020152\n",
       "2736   SK4677    10092.053    48.876652\n",
       "2689   SK4630    10033.567    48.593399\n",
       "\n",
       "[233 rows x 3 columns]"
      ]
     },
     "execution_count": 90,
     "metadata": {},
     "output_type": "execute_result"
    }
   ],
   "source": [
    "level2_allocation"
   ]
  },
  {
   "cell_type": "code",
   "execution_count": 91,
   "metadata": {},
   "outputs": [
    {
     "data": {
      "text/plain": [
       "48.593399184197224"
      ]
     },
     "execution_count": 91,
     "metadata": {},
     "output_type": "execute_result"
    }
   ],
   "source": [
    "level2_allocation['allocation'].min()"
   ]
  },
  {
   "cell_type": "code",
   "execution_count": null,
   "metadata": {},
   "outputs": [],
   "source": []
  },
  {
   "cell_type": "code",
   "execution_count": null,
   "metadata": {},
   "outputs": [],
   "source": []
  },
  {
   "cell_type": "code",
   "execution_count": 92,
   "metadata": {},
   "outputs": [
    {
     "data": {
      "text/plain": [
       "50518.46334676112"
      ]
     },
     "execution_count": 92,
     "metadata": {},
     "output_type": "execute_result"
    }
   ],
   "source": [
    "level2_allocation['allocation'].sum()"
   ]
  },
  {
   "cell_type": "code",
   "execution_count": null,
   "metadata": {},
   "outputs": [],
   "source": []
  },
  {
   "cell_type": "code",
   "execution_count": 93,
   "metadata": {},
   "outputs": [
    {
     "data": {
      "text/html": [
       "<div>\n",
       "<style scoped>\n",
       "    .dataframe tbody tr th:only-of-type {\n",
       "        vertical-align: middle;\n",
       "    }\n",
       "\n",
       "    .dataframe tbody tr th {\n",
       "        vertical-align: top;\n",
       "    }\n",
       "\n",
       "    .dataframe thead th {\n",
       "        text-align: right;\n",
       "    }\n",
       "</style>\n",
       "<table border=\"1\" class=\"dataframe\">\n",
       "  <thead>\n",
       "    <tr style=\"text-align: right;\">\n",
       "      <th></th>\n",
       "      <th>Skcode</th>\n",
       "      <th>nooforder</th>\n",
       "      <th>noofbrand</th>\n",
       "      <th>Totalvolume</th>\n",
       "      <th>KKvolume</th>\n",
       "      <th>SalesPersonPercentageorder</th>\n",
       "      <th>SelforderPercentage</th>\n",
       "      <th>active</th>\n",
       "      <th>levels</th>\n",
       "    </tr>\n",
       "  </thead>\n",
       "  <tbody>\n",
       "    <tr>\n",
       "      <th>29</th>\n",
       "      <td>SK10154</td>\n",
       "      <td>8</td>\n",
       "      <td>11</td>\n",
       "      <td>83766.181</td>\n",
       "      <td>5486.25</td>\n",
       "      <td>80</td>\n",
       "      <td>19</td>\n",
       "      <td>True</td>\n",
       "      <td>level_3</td>\n",
       "    </tr>\n",
       "    <tr>\n",
       "      <th>85</th>\n",
       "      <td>SK10427</td>\n",
       "      <td>7</td>\n",
       "      <td>12</td>\n",
       "      <td>28547.754</td>\n",
       "      <td>5486.25</td>\n",
       "      <td>88</td>\n",
       "      <td>11</td>\n",
       "      <td>True</td>\n",
       "      <td>level_3</td>\n",
       "    </tr>\n",
       "    <tr>\n",
       "      <th>208</th>\n",
       "      <td>SK14040</td>\n",
       "      <td>9</td>\n",
       "      <td>18</td>\n",
       "      <td>91358.418</td>\n",
       "      <td>2292.84</td>\n",
       "      <td>87</td>\n",
       "      <td>12</td>\n",
       "      <td>True</td>\n",
       "      <td>level_3</td>\n",
       "    </tr>\n",
       "    <tr>\n",
       "      <th>1115</th>\n",
       "      <td>SK19080</td>\n",
       "      <td>12</td>\n",
       "      <td>11</td>\n",
       "      <td>143462.461</td>\n",
       "      <td>31671.00</td>\n",
       "      <td>47</td>\n",
       "      <td>52</td>\n",
       "      <td>True</td>\n",
       "      <td>level_3</td>\n",
       "    </tr>\n",
       "    <tr>\n",
       "      <th>1734</th>\n",
       "      <td>SK20678</td>\n",
       "      <td>14</td>\n",
       "      <td>21</td>\n",
       "      <td>308749.926</td>\n",
       "      <td>38615.10</td>\n",
       "      <td>2</td>\n",
       "      <td>97</td>\n",
       "      <td>True</td>\n",
       "      <td>level_3</td>\n",
       "    </tr>\n",
       "  </tbody>\n",
       "</table>\n",
       "</div>"
      ],
      "text/plain": [
       "       Skcode  nooforder  noofbrand  Totalvolume  KKvolume  \\\n",
       "29    SK10154          8         11    83766.181   5486.25   \n",
       "85    SK10427          7         12    28547.754   5486.25   \n",
       "208   SK14040          9         18    91358.418   2292.84   \n",
       "1115  SK19080         12         11   143462.461  31671.00   \n",
       "1734  SK20678         14         21   308749.926  38615.10   \n",
       "\n",
       "      SalesPersonPercentageorder  SelforderPercentage  active   levels  \n",
       "29                            80                   19    True  level_3  \n",
       "85                            88                   11    True  level_3  \n",
       "208                           87                   12    True  level_3  \n",
       "1115                          47                   52    True  level_3  \n",
       "1734                           2                   97    True  level_3  "
      ]
     },
     "execution_count": 93,
     "metadata": {},
     "output_type": "execute_result"
    }
   ],
   "source": [
    "df_level3.head()"
   ]
  },
  {
   "cell_type": "code",
   "execution_count": 94,
   "metadata": {},
   "outputs": [
    {
     "data": {
      "text/html": [
       "<div>\n",
       "<style scoped>\n",
       "    .dataframe tbody tr th:only-of-type {\n",
       "        vertical-align: middle;\n",
       "    }\n",
       "\n",
       "    .dataframe tbody tr th {\n",
       "        vertical-align: top;\n",
       "    }\n",
       "\n",
       "    .dataframe thead th {\n",
       "        text-align: right;\n",
       "    }\n",
       "</style>\n",
       "<table border=\"1\" class=\"dataframe\">\n",
       "  <thead>\n",
       "    <tr style=\"text-align: right;\">\n",
       "      <th></th>\n",
       "      <th>Skcode</th>\n",
       "      <th>Totalvolume</th>\n",
       "    </tr>\n",
       "  </thead>\n",
       "  <tbody>\n",
       "    <tr>\n",
       "      <th>1734</th>\n",
       "      <td>SK20678</td>\n",
       "      <td>308749.926</td>\n",
       "    </tr>\n",
       "    <tr>\n",
       "      <th>3369</th>\n",
       "      <td>SK7973</td>\n",
       "      <td>207420.508</td>\n",
       "    </tr>\n",
       "    <tr>\n",
       "      <th>3305</th>\n",
       "      <td>SK7876</td>\n",
       "      <td>168163.517</td>\n",
       "    </tr>\n",
       "    <tr>\n",
       "      <th>2108</th>\n",
       "      <td>SK4035</td>\n",
       "      <td>154122.470</td>\n",
       "    </tr>\n",
       "    <tr>\n",
       "      <th>1115</th>\n",
       "      <td>SK19080</td>\n",
       "      <td>143462.461</td>\n",
       "    </tr>\n",
       "  </tbody>\n",
       "</table>\n",
       "</div>"
      ],
      "text/plain": [
       "       Skcode  Totalvolume\n",
       "1734  SK20678   308749.926\n",
       "3369   SK7973   207420.508\n",
       "3305   SK7876   168163.517\n",
       "2108   SK4035   154122.470\n",
       "1115  SK19080   143462.461"
      ]
     },
     "execution_count": 94,
     "metadata": {},
     "output_type": "execute_result"
    }
   ],
   "source": [
    "level3_allocation=df_level3[['Skcode','Totalvolume']]\n",
    "level3_allocation=level3_allocation.sort_values(by='Totalvolume',ascending=False)\n",
    "level3_allocation.head()"
   ]
  },
  {
   "cell_type": "code",
   "execution_count": null,
   "metadata": {},
   "outputs": [],
   "source": []
  },
  {
   "cell_type": "code",
   "execution_count": 95,
   "metadata": {},
   "outputs": [],
   "source": [
    "sum3=level3_allocation['Totalvolume'].sum()"
   ]
  },
  {
   "cell_type": "code",
   "execution_count": null,
   "metadata": {},
   "outputs": [],
   "source": []
  },
  {
   "cell_type": "code",
   "execution_count": 96,
   "metadata": {},
   "outputs": [],
   "source": [
    "level3_allocation['allocation'] = (level3_allocation['Totalvolume']/sum3) * amount_l3\n"
   ]
  },
  {
   "cell_type": "code",
   "execution_count": 97,
   "metadata": {},
   "outputs": [
    {
     "data": {
      "text/html": [
       "<div>\n",
       "<style scoped>\n",
       "    .dataframe tbody tr th:only-of-type {\n",
       "        vertical-align: middle;\n",
       "    }\n",
       "\n",
       "    .dataframe tbody tr th {\n",
       "        vertical-align: top;\n",
       "    }\n",
       "\n",
       "    .dataframe thead th {\n",
       "        text-align: right;\n",
       "    }\n",
       "</style>\n",
       "<table border=\"1\" class=\"dataframe\">\n",
       "  <thead>\n",
       "    <tr style=\"text-align: right;\">\n",
       "      <th></th>\n",
       "      <th>Skcode</th>\n",
       "      <th>Totalvolume</th>\n",
       "      <th>allocation</th>\n",
       "    </tr>\n",
       "  </thead>\n",
       "  <tbody>\n",
       "    <tr>\n",
       "      <th>1734</th>\n",
       "      <td>SK20678</td>\n",
       "      <td>308749.926</td>\n",
       "      <td>1495.301561</td>\n",
       "    </tr>\n",
       "    <tr>\n",
       "      <th>3369</th>\n",
       "      <td>SK7973</td>\n",
       "      <td>207420.508</td>\n",
       "      <td>1004.554765</td>\n",
       "    </tr>\n",
       "    <tr>\n",
       "      <th>3305</th>\n",
       "      <td>SK7876</td>\n",
       "      <td>168163.517</td>\n",
       "      <td>814.429894</td>\n",
       "    </tr>\n",
       "    <tr>\n",
       "      <th>2108</th>\n",
       "      <td>SK4035</td>\n",
       "      <td>154122.470</td>\n",
       "      <td>746.427936</td>\n",
       "    </tr>\n",
       "    <tr>\n",
       "      <th>1115</th>\n",
       "      <td>SK19080</td>\n",
       "      <td>143462.461</td>\n",
       "      <td>694.800626</td>\n",
       "    </tr>\n",
       "  </tbody>\n",
       "</table>\n",
       "</div>"
      ],
      "text/plain": [
       "       Skcode  Totalvolume   allocation\n",
       "1734  SK20678   308749.926  1495.301561\n",
       "3369   SK7973   207420.508  1004.554765\n",
       "3305   SK7876   168163.517   814.429894\n",
       "2108   SK4035   154122.470   746.427936\n",
       "1115  SK19080   143462.461   694.800626"
      ]
     },
     "execution_count": 97,
     "metadata": {},
     "output_type": "execute_result"
    }
   ],
   "source": [
    "level3_allocation.head()"
   ]
  },
  {
   "cell_type": "code",
   "execution_count": 98,
   "metadata": {},
   "outputs": [
    {
     "data": {
      "text/plain": [
       "15134.439519045838"
      ]
     },
     "execution_count": 98,
     "metadata": {},
     "output_type": "execute_result"
    }
   ],
   "source": [
    "level3_allocation['allocation'].sum()"
   ]
  },
  {
   "cell_type": "code",
   "execution_count": null,
   "metadata": {},
   "outputs": [],
   "source": []
  },
  {
   "cell_type": "code",
   "execution_count": null,
   "metadata": {},
   "outputs": [],
   "source": []
  },
  {
   "cell_type": "code",
   "execution_count": null,
   "metadata": {},
   "outputs": [],
   "source": []
  },
  {
   "cell_type": "code",
   "execution_count": 99,
   "metadata": {},
   "outputs": [
    {
     "data": {
      "text/html": [
       "<div>\n",
       "<style scoped>\n",
       "    .dataframe tbody tr th:only-of-type {\n",
       "        vertical-align: middle;\n",
       "    }\n",
       "\n",
       "    .dataframe tbody tr th {\n",
       "        vertical-align: top;\n",
       "    }\n",
       "\n",
       "    .dataframe thead th {\n",
       "        text-align: right;\n",
       "    }\n",
       "</style>\n",
       "<table border=\"1\" class=\"dataframe\">\n",
       "  <thead>\n",
       "    <tr style=\"text-align: right;\">\n",
       "      <th></th>\n",
       "      <th>Skcode</th>\n",
       "      <th>Totalvolume</th>\n",
       "    </tr>\n",
       "  </thead>\n",
       "  <tbody>\n",
       "    <tr>\n",
       "      <th>4209</th>\n",
       "      <td>SK9614</td>\n",
       "      <td>521491.409</td>\n",
       "    </tr>\n",
       "    <tr>\n",
       "      <th>3051</th>\n",
       "      <td>SK7510</td>\n",
       "      <td>511675.758</td>\n",
       "    </tr>\n",
       "    <tr>\n",
       "      <th>3322</th>\n",
       "      <td>SK7906</td>\n",
       "      <td>184416.300</td>\n",
       "    </tr>\n",
       "    <tr>\n",
       "      <th>4070</th>\n",
       "      <td>SK8856</td>\n",
       "      <td>116841.532</td>\n",
       "    </tr>\n",
       "  </tbody>\n",
       "</table>\n",
       "</div>"
      ],
      "text/plain": [
       "      Skcode  Totalvolume\n",
       "4209  SK9614   521491.409\n",
       "3051  SK7510   511675.758\n",
       "3322  SK7906   184416.300\n",
       "4070  SK8856   116841.532"
      ]
     },
     "execution_count": 99,
     "metadata": {},
     "output_type": "execute_result"
    }
   ],
   "source": [
    "level4_allocation=df_level4[['Skcode','Totalvolume']]\n",
    "level4_allocation=level4_allocation.sort_values(by='Totalvolume',ascending=False)\n",
    "level4_allocation"
   ]
  },
  {
   "cell_type": "code",
   "execution_count": 100,
   "metadata": {},
   "outputs": [],
   "source": [
    "sum4=level4_allocation['Totalvolume'].sum()"
   ]
  },
  {
   "cell_type": "code",
   "execution_count": 101,
   "metadata": {},
   "outputs": [],
   "source": [
    "level4_allocation['allocation'] = (level4_allocation['Totalvolume']/sum4) * amount_l4\n"
   ]
  },
  {
   "cell_type": "code",
   "execution_count": 102,
   "metadata": {},
   "outputs": [
    {
     "data": {
      "text/html": [
       "<div>\n",
       "<style scoped>\n",
       "    .dataframe tbody tr th:only-of-type {\n",
       "        vertical-align: middle;\n",
       "    }\n",
       "\n",
       "    .dataframe tbody tr th {\n",
       "        vertical-align: top;\n",
       "    }\n",
       "\n",
       "    .dataframe thead th {\n",
       "        text-align: right;\n",
       "    }\n",
       "</style>\n",
       "<table border=\"1\" class=\"dataframe\">\n",
       "  <thead>\n",
       "    <tr style=\"text-align: right;\">\n",
       "      <th></th>\n",
       "      <th>Skcode</th>\n",
       "      <th>Totalvolume</th>\n",
       "      <th>allocation</th>\n",
       "    </tr>\n",
       "  </thead>\n",
       "  <tbody>\n",
       "    <tr>\n",
       "      <th>4209</th>\n",
       "      <td>SK9614</td>\n",
       "      <td>521491.409</td>\n",
       "      <td>2525.626251</td>\n",
       "    </tr>\n",
       "    <tr>\n",
       "      <th>3051</th>\n",
       "      <td>SK7510</td>\n",
       "      <td>511675.758</td>\n",
       "      <td>2478.088237</td>\n",
       "    </tr>\n",
       "    <tr>\n",
       "      <th>3322</th>\n",
       "      <td>SK7906</td>\n",
       "      <td>184416.300</td>\n",
       "      <td>893.143473</td>\n",
       "    </tr>\n",
       "    <tr>\n",
       "      <th>4070</th>\n",
       "      <td>SK8856</td>\n",
       "      <td>116841.532</td>\n",
       "      <td>565.873254</td>\n",
       "    </tr>\n",
       "  </tbody>\n",
       "</table>\n",
       "</div>"
      ],
      "text/plain": [
       "      Skcode  Totalvolume   allocation\n",
       "4209  SK9614   521491.409  2525.626251\n",
       "3051  SK7510   511675.758  2478.088237\n",
       "3322  SK7906   184416.300   893.143473\n",
       "4070  SK8856   116841.532   565.873254"
      ]
     },
     "execution_count": 102,
     "metadata": {},
     "output_type": "execute_result"
    }
   ],
   "source": [
    "level4_allocation"
   ]
  },
  {
   "cell_type": "code",
   "execution_count": null,
   "metadata": {},
   "outputs": [],
   "source": []
  },
  {
   "cell_type": "code",
   "execution_count": 103,
   "metadata": {},
   "outputs": [
    {
     "data": {
      "text/plain": [
       "6462.731215905469"
      ]
     },
     "execution_count": 103,
     "metadata": {},
     "output_type": "execute_result"
    }
   ],
   "source": [
    "level4_allocation['allocation'].sum()"
   ]
  },
  {
   "cell_type": "code",
   "execution_count": null,
   "metadata": {},
   "outputs": [],
   "source": []
  },
  {
   "cell_type": "code",
   "execution_count": 104,
   "metadata": {},
   "outputs": [
    {
     "data": {
      "text/html": [
       "<div>\n",
       "<style scoped>\n",
       "    .dataframe tbody tr th:only-of-type {\n",
       "        vertical-align: middle;\n",
       "    }\n",
       "\n",
       "    .dataframe tbody tr th {\n",
       "        vertical-align: top;\n",
       "    }\n",
       "\n",
       "    .dataframe thead th {\n",
       "        text-align: right;\n",
       "    }\n",
       "</style>\n",
       "<table border=\"1\" class=\"dataframe\">\n",
       "  <thead>\n",
       "    <tr style=\"text-align: right;\">\n",
       "      <th></th>\n",
       "      <th>Skcode</th>\n",
       "      <th>Totalvolume</th>\n",
       "    </tr>\n",
       "  </thead>\n",
       "  <tbody>\n",
       "    <tr>\n",
       "      <th>1728</th>\n",
       "      <td>SK20659</td>\n",
       "      <td>591408.000</td>\n",
       "    </tr>\n",
       "    <tr>\n",
       "      <th>1538</th>\n",
       "      <td>SK20183</td>\n",
       "      <td>347508.000</td>\n",
       "    </tr>\n",
       "    <tr>\n",
       "      <th>2232</th>\n",
       "      <td>SK4160</td>\n",
       "      <td>287587.800</td>\n",
       "    </tr>\n",
       "    <tr>\n",
       "      <th>1713</th>\n",
       "      <td>SK20610</td>\n",
       "      <td>128598.840</td>\n",
       "    </tr>\n",
       "    <tr>\n",
       "      <th>1699</th>\n",
       "      <td>SK20582</td>\n",
       "      <td>120791.136</td>\n",
       "    </tr>\n",
       "  </tbody>\n",
       "</table>\n",
       "</div>"
      ],
      "text/plain": [
       "       Skcode  Totalvolume\n",
       "1728  SK20659   591408.000\n",
       "1538  SK20183   347508.000\n",
       "2232   SK4160   287587.800\n",
       "1713  SK20610   128598.840\n",
       "1699  SK20582   120791.136"
      ]
     },
     "execution_count": 104,
     "metadata": {},
     "output_type": "execute_result"
    }
   ],
   "source": [
    "level1_allocation=df_level1[['Skcode','Totalvolume']]\n",
    "level1_allocation=level1_allocation.sort_values(by='Totalvolume',ascending=False)\n",
    "level1_allocation.head()"
   ]
  },
  {
   "cell_type": "code",
   "execution_count": 105,
   "metadata": {},
   "outputs": [],
   "source": [
    "sum1=level1_allocation['Totalvolume'].sum()"
   ]
  },
  {
   "cell_type": "code",
   "execution_count": null,
   "metadata": {},
   "outputs": [],
   "source": []
  },
  {
   "cell_type": "code",
   "execution_count": 106,
   "metadata": {},
   "outputs": [],
   "source": [
    "level1_allocation['allocation'] = (level1_allocation['Totalvolume']/sum1) * amount_l1\n"
   ]
  },
  {
   "cell_type": "code",
   "execution_count": null,
   "metadata": {},
   "outputs": [],
   "source": []
  },
  {
   "cell_type": "code",
   "execution_count": 107,
   "metadata": {},
   "outputs": [
    {
     "data": {
      "text/html": [
       "<div>\n",
       "<style scoped>\n",
       "    .dataframe tbody tr th:only-of-type {\n",
       "        vertical-align: middle;\n",
       "    }\n",
       "\n",
       "    .dataframe tbody tr th {\n",
       "        vertical-align: top;\n",
       "    }\n",
       "\n",
       "    .dataframe thead th {\n",
       "        text-align: right;\n",
       "    }\n",
       "</style>\n",
       "<table border=\"1\" class=\"dataframe\">\n",
       "  <thead>\n",
       "    <tr style=\"text-align: right;\">\n",
       "      <th></th>\n",
       "      <th>Skcode</th>\n",
       "      <th>Totalvolume</th>\n",
       "      <th>allocation</th>\n",
       "    </tr>\n",
       "  </thead>\n",
       "  <tbody>\n",
       "    <tr>\n",
       "      <th>1728</th>\n",
       "      <td>SK20659</td>\n",
       "      <td>591408.000</td>\n",
       "      <td>2864.238114</td>\n",
       "    </tr>\n",
       "    <tr>\n",
       "      <th>1538</th>\n",
       "      <td>SK20183</td>\n",
       "      <td>347508.000</td>\n",
       "      <td>1683.010136</td>\n",
       "    </tr>\n",
       "    <tr>\n",
       "      <th>2232</th>\n",
       "      <td>SK4160</td>\n",
       "      <td>287587.800</td>\n",
       "      <td>1392.811626</td>\n",
       "    </tr>\n",
       "    <tr>\n",
       "      <th>1713</th>\n",
       "      <td>SK20610</td>\n",
       "      <td>128598.840</td>\n",
       "      <td>622.814874</td>\n",
       "    </tr>\n",
       "    <tr>\n",
       "      <th>1699</th>\n",
       "      <td>SK20582</td>\n",
       "      <td>120791.136</td>\n",
       "      <td>585.001514</td>\n",
       "    </tr>\n",
       "  </tbody>\n",
       "</table>\n",
       "</div>"
      ],
      "text/plain": [
       "       Skcode  Totalvolume   allocation\n",
       "1728  SK20659   591408.000  2864.238114\n",
       "1538  SK20183   347508.000  1683.010136\n",
       "2232   SK4160   287587.800  1392.811626\n",
       "1713  SK20610   128598.840   622.814874\n",
       "1699  SK20582   120791.136   585.001514"
      ]
     },
     "execution_count": 107,
     "metadata": {},
     "output_type": "execute_result"
    }
   ],
   "source": [
    "level1_allocation.head()"
   ]
  },
  {
   "cell_type": "code",
   "execution_count": null,
   "metadata": {},
   "outputs": [],
   "source": []
  },
  {
   "cell_type": "code",
   "execution_count": 108,
   "metadata": {},
   "outputs": [
    {
     "data": {
      "text/plain": [
       "27884.365918287574"
      ]
     },
     "execution_count": 108,
     "metadata": {},
     "output_type": "execute_result"
    }
   ],
   "source": [
    "level1_allocation['allocation'].sum()"
   ]
  },
  {
   "cell_type": "code",
   "execution_count": null,
   "metadata": {},
   "outputs": [],
   "source": []
  },
  {
   "cell_type": "code",
   "execution_count": null,
   "metadata": {},
   "outputs": [],
   "source": []
  },
  {
   "cell_type": "code",
   "execution_count": null,
   "metadata": {},
   "outputs": [],
   "source": []
  },
  {
   "cell_type": "code",
   "execution_count": null,
   "metadata": {},
   "outputs": [],
   "source": []
  },
  {
   "cell_type": "markdown",
   "metadata": {},
   "source": [
    "## Promotion retention"
   ]
  },
  {
   "cell_type": "code",
   "execution_count": null,
   "metadata": {},
   "outputs": [],
   "source": []
  },
  {
   "cell_type": "code",
   "execution_count": 109,
   "metadata": {},
   "outputs": [
    {
     "data": {
      "text/html": [
       "<div>\n",
       "<style scoped>\n",
       "    .dataframe tbody tr th:only-of-type {\n",
       "        vertical-align: middle;\n",
       "    }\n",
       "\n",
       "    .dataframe tbody tr th {\n",
       "        vertical-align: top;\n",
       "    }\n",
       "\n",
       "    .dataframe thead th {\n",
       "        text-align: right;\n",
       "    }\n",
       "</style>\n",
       "<table border=\"1\" class=\"dataframe\">\n",
       "  <thead>\n",
       "    <tr style=\"text-align: right;\">\n",
       "      <th></th>\n",
       "      <th>Skcode</th>\n",
       "      <th>nooforder</th>\n",
       "      <th>noofbrand</th>\n",
       "      <th>Totalvolume</th>\n",
       "      <th>KKvolume</th>\n",
       "      <th>SalesPersonPercentageorder</th>\n",
       "      <th>SelforderPercentage</th>\n",
       "      <th>active</th>\n",
       "      <th>levels</th>\n",
       "    </tr>\n",
       "  </thead>\n",
       "  <tbody>\n",
       "    <tr>\n",
       "      <th>2</th>\n",
       "      <td>SK10030</td>\n",
       "      <td>1</td>\n",
       "      <td>9</td>\n",
       "      <td>10586.018</td>\n",
       "      <td>0.000</td>\n",
       "      <td>100</td>\n",
       "      <td>0</td>\n",
       "      <td>True</td>\n",
       "      <td>level_1</td>\n",
       "    </tr>\n",
       "    <tr>\n",
       "      <th>3</th>\n",
       "      <td>SK10037</td>\n",
       "      <td>1</td>\n",
       "      <td>7</td>\n",
       "      <td>14460.112</td>\n",
       "      <td>0.000</td>\n",
       "      <td>100</td>\n",
       "      <td>0</td>\n",
       "      <td>True</td>\n",
       "      <td>level_1</td>\n",
       "    </tr>\n",
       "    <tr>\n",
       "      <th>8</th>\n",
       "      <td>SK10045</td>\n",
       "      <td>2</td>\n",
       "      <td>3</td>\n",
       "      <td>1996.296</td>\n",
       "      <td>1477.980</td>\n",
       "      <td>66</td>\n",
       "      <td>33</td>\n",
       "      <td>True</td>\n",
       "      <td>level_1</td>\n",
       "    </tr>\n",
       "    <tr>\n",
       "      <th>14</th>\n",
       "      <td>SK10071</td>\n",
       "      <td>3</td>\n",
       "      <td>10</td>\n",
       "      <td>3248.240</td>\n",
       "      <td>0.000</td>\n",
       "      <td>0</td>\n",
       "      <td>100</td>\n",
       "      <td>True</td>\n",
       "      <td>level_1</td>\n",
       "    </tr>\n",
       "    <tr>\n",
       "      <th>15</th>\n",
       "      <td>SK10073</td>\n",
       "      <td>3</td>\n",
       "      <td>22</td>\n",
       "      <td>6527.179</td>\n",
       "      <td>56.528</td>\n",
       "      <td>0</td>\n",
       "      <td>100</td>\n",
       "      <td>True</td>\n",
       "      <td>level_1</td>\n",
       "    </tr>\n",
       "  </tbody>\n",
       "</table>\n",
       "</div>"
      ],
      "text/plain": [
       "     Skcode  nooforder  noofbrand  Totalvolume  KKvolume  \\\n",
       "2   SK10030          1          9    10586.018     0.000   \n",
       "3   SK10037          1          7    14460.112     0.000   \n",
       "8   SK10045          2          3     1996.296  1477.980   \n",
       "14  SK10071          3         10     3248.240     0.000   \n",
       "15  SK10073          3         22     6527.179    56.528   \n",
       "\n",
       "    SalesPersonPercentageorder  SelforderPercentage  active   levels  \n",
       "2                          100                    0    True  level_1  \n",
       "3                          100                    0    True  level_1  \n",
       "8                           66                   33    True  level_1  \n",
       "14                           0                  100    True  level_1  \n",
       "15                           0                  100    True  level_1  "
      ]
     },
     "execution_count": 109,
     "metadata": {},
     "output_type": "execute_result"
    }
   ],
   "source": [
    "df_level1.head()"
   ]
  },
  {
   "cell_type": "code",
   "execution_count": 110,
   "metadata": {},
   "outputs": [
    {
     "data": {
      "text/plain": [
       "10430.371351449276"
      ]
     },
     "execution_count": 110,
     "metadata": {},
     "output_type": "execute_result"
    }
   ],
   "source": [
    "avg_level1= df_level1['Totalvolume'].mean()\n",
    "avg_level1"
   ]
  },
  {
   "cell_type": "code",
   "execution_count": null,
   "metadata": {},
   "outputs": [],
   "source": []
  },
  {
   "cell_type": "code",
   "execution_count": null,
   "metadata": {},
   "outputs": [],
   "source": []
  },
  {
   "cell_type": "code",
   "execution_count": null,
   "metadata": {},
   "outputs": [],
   "source": []
  },
  {
   "cell_type": "code",
   "execution_count": 111,
   "metadata": {},
   "outputs": [
    {
     "name": "stderr",
     "output_type": "stream",
     "text": [
      "C:\\Users\\A.Kislaya\\AppData\\Local\\Continuum\\anaconda3\\lib\\site-packages\\pandas\\core\\indexing.py:362: SettingWithCopyWarning: \n",
      "A value is trying to be set on a copy of a slice from a DataFrame.\n",
      "Try using .loc[row_indexer,col_indexer] = value instead\n",
      "\n",
      "See the caveats in the documentation: http://pandas.pydata.org/pandas-docs/stable/indexing.html#indexing-view-versus-copy\n",
      "  self.obj[key] = _infer_fill_value(value)\n",
      "C:\\Users\\A.Kislaya\\AppData\\Local\\Continuum\\anaconda3\\lib\\site-packages\\pandas\\core\\indexing.py:543: SettingWithCopyWarning: \n",
      "A value is trying to be set on a copy of a slice from a DataFrame.\n",
      "Try using .loc[row_indexer,col_indexer] = value instead\n",
      "\n",
      "See the caveats in the documentation: http://pandas.pydata.org/pandas-docs/stable/indexing.html#indexing-view-versus-copy\n",
      "  self.obj[item] = s\n"
     ]
    },
    {
     "data": {
      "text/html": [
       "<div>\n",
       "<style scoped>\n",
       "    .dataframe tbody tr th:only-of-type {\n",
       "        vertical-align: middle;\n",
       "    }\n",
       "\n",
       "    .dataframe tbody tr th {\n",
       "        vertical-align: top;\n",
       "    }\n",
       "\n",
       "    .dataframe thead th {\n",
       "        text-align: right;\n",
       "    }\n",
       "</style>\n",
       "<table border=\"1\" class=\"dataframe\">\n",
       "  <thead>\n",
       "    <tr style=\"text-align: right;\">\n",
       "      <th></th>\n",
       "      <th>Skcode</th>\n",
       "      <th>nooforder</th>\n",
       "      <th>noofbrand</th>\n",
       "      <th>Totalvolume</th>\n",
       "      <th>KKvolume</th>\n",
       "      <th>SalesPersonPercentageorder</th>\n",
       "      <th>SelforderPercentage</th>\n",
       "      <th>active</th>\n",
       "      <th>levels</th>\n",
       "      <th>State</th>\n",
       "    </tr>\n",
       "  </thead>\n",
       "  <tbody>\n",
       "    <tr>\n",
       "      <th>2</th>\n",
       "      <td>SK10030</td>\n",
       "      <td>1</td>\n",
       "      <td>9</td>\n",
       "      <td>10586.018</td>\n",
       "      <td>0.000</td>\n",
       "      <td>100</td>\n",
       "      <td>0</td>\n",
       "      <td>True</td>\n",
       "      <td>level_1</td>\n",
       "      <td>Promotion</td>\n",
       "    </tr>\n",
       "    <tr>\n",
       "      <th>3</th>\n",
       "      <td>SK10037</td>\n",
       "      <td>1</td>\n",
       "      <td>7</td>\n",
       "      <td>14460.112</td>\n",
       "      <td>0.000</td>\n",
       "      <td>100</td>\n",
       "      <td>0</td>\n",
       "      <td>True</td>\n",
       "      <td>level_1</td>\n",
       "      <td>Promotion</td>\n",
       "    </tr>\n",
       "    <tr>\n",
       "      <th>8</th>\n",
       "      <td>SK10045</td>\n",
       "      <td>2</td>\n",
       "      <td>3</td>\n",
       "      <td>1996.296</td>\n",
       "      <td>1477.980</td>\n",
       "      <td>66</td>\n",
       "      <td>33</td>\n",
       "      <td>True</td>\n",
       "      <td>level_1</td>\n",
       "      <td>Retention</td>\n",
       "    </tr>\n",
       "    <tr>\n",
       "      <th>14</th>\n",
       "      <td>SK10071</td>\n",
       "      <td>3</td>\n",
       "      <td>10</td>\n",
       "      <td>3248.240</td>\n",
       "      <td>0.000</td>\n",
       "      <td>0</td>\n",
       "      <td>100</td>\n",
       "      <td>True</td>\n",
       "      <td>level_1</td>\n",
       "      <td>Retention</td>\n",
       "    </tr>\n",
       "    <tr>\n",
       "      <th>15</th>\n",
       "      <td>SK10073</td>\n",
       "      <td>3</td>\n",
       "      <td>22</td>\n",
       "      <td>6527.179</td>\n",
       "      <td>56.528</td>\n",
       "      <td>0</td>\n",
       "      <td>100</td>\n",
       "      <td>True</td>\n",
       "      <td>level_1</td>\n",
       "      <td>Retention</td>\n",
       "    </tr>\n",
       "  </tbody>\n",
       "</table>\n",
       "</div>"
      ],
      "text/plain": [
       "     Skcode  nooforder  noofbrand  Totalvolume  KKvolume  \\\n",
       "2   SK10030          1          9    10586.018     0.000   \n",
       "3   SK10037          1          7    14460.112     0.000   \n",
       "8   SK10045          2          3     1996.296  1477.980   \n",
       "14  SK10071          3         10     3248.240     0.000   \n",
       "15  SK10073          3         22     6527.179    56.528   \n",
       "\n",
       "    SalesPersonPercentageorder  SelforderPercentage  active   levels  \\\n",
       "2                          100                    0    True  level_1   \n",
       "3                          100                    0    True  level_1   \n",
       "8                           66                   33    True  level_1   \n",
       "14                           0                  100    True  level_1   \n",
       "15                           0                  100    True  level_1   \n",
       "\n",
       "        State  \n",
       "2   Promotion  \n",
       "3   Promotion  \n",
       "8   Retention  \n",
       "14  Retention  \n",
       "15  Retention  "
      ]
     },
     "execution_count": 111,
     "metadata": {},
     "output_type": "execute_result"
    }
   ],
   "source": [
    "df_level1.loc[df_level1.Totalvolume >= avg_level1, 'State'] = 'Promotion'\n",
    "df_level1.loc[df_level1.Totalvolume < avg_level1, 'State'] = 'Retention'\n",
    "\n",
    "df_level1.head()"
   ]
  },
  {
   "cell_type": "code",
   "execution_count": null,
   "metadata": {},
   "outputs": [],
   "source": []
  },
  {
   "cell_type": "code",
   "execution_count": null,
   "metadata": {},
   "outputs": [],
   "source": []
  },
  {
   "cell_type": "code",
   "execution_count": null,
   "metadata": {},
   "outputs": [],
   "source": []
  },
  {
   "cell_type": "code",
   "execution_count": 112,
   "metadata": {},
   "outputs": [
    {
     "data": {
      "text/plain": [
       "44768.473497854065"
      ]
     },
     "execution_count": 112,
     "metadata": {},
     "output_type": "execute_result"
    }
   ],
   "source": [
    "avg_level2= df_level2['Totalvolume'].mean()\n",
    "avg_level2"
   ]
  },
  {
   "cell_type": "code",
   "execution_count": 113,
   "metadata": {},
   "outputs": [
    {
     "data": {
      "text/html": [
       "<div>\n",
       "<style scoped>\n",
       "    .dataframe tbody tr th:only-of-type {\n",
       "        vertical-align: middle;\n",
       "    }\n",
       "\n",
       "    .dataframe tbody tr th {\n",
       "        vertical-align: top;\n",
       "    }\n",
       "\n",
       "    .dataframe thead th {\n",
       "        text-align: right;\n",
       "    }\n",
       "</style>\n",
       "<table border=\"1\" class=\"dataframe\">\n",
       "  <thead>\n",
       "    <tr style=\"text-align: right;\">\n",
       "      <th></th>\n",
       "      <th>Skcode</th>\n",
       "      <th>nooforder</th>\n",
       "      <th>noofbrand</th>\n",
       "      <th>Totalvolume</th>\n",
       "      <th>KKvolume</th>\n",
       "      <th>SalesPersonPercentageorder</th>\n",
       "      <th>SelforderPercentage</th>\n",
       "      <th>active</th>\n",
       "      <th>levels</th>\n",
       "      <th>State</th>\n",
       "    </tr>\n",
       "  </thead>\n",
       "  <tbody>\n",
       "    <tr>\n",
       "      <th>7</th>\n",
       "      <td>SK10044</td>\n",
       "      <td>24</td>\n",
       "      <td>29</td>\n",
       "      <td>239042.063</td>\n",
       "      <td>838.20</td>\n",
       "      <td>97</td>\n",
       "      <td>2</td>\n",
       "      <td>True</td>\n",
       "      <td>level_2</td>\n",
       "      <td>Promotion</td>\n",
       "    </tr>\n",
       "    <tr>\n",
       "      <th>25</th>\n",
       "      <td>SK10121</td>\n",
       "      <td>3</td>\n",
       "      <td>5</td>\n",
       "      <td>19956.880</td>\n",
       "      <td>0.00</td>\n",
       "      <td>100</td>\n",
       "      <td>0</td>\n",
       "      <td>True</td>\n",
       "      <td>level_2</td>\n",
       "      <td>Retention</td>\n",
       "    </tr>\n",
       "    <tr>\n",
       "      <th>27</th>\n",
       "      <td>SK10150</td>\n",
       "      <td>4</td>\n",
       "      <td>36</td>\n",
       "      <td>45946.964</td>\n",
       "      <td>0.00</td>\n",
       "      <td>0</td>\n",
       "      <td>100</td>\n",
       "      <td>True</td>\n",
       "      <td>level_2</td>\n",
       "      <td>Promotion</td>\n",
       "    </tr>\n",
       "    <tr>\n",
       "      <th>43</th>\n",
       "      <td>SK10202</td>\n",
       "      <td>4</td>\n",
       "      <td>23</td>\n",
       "      <td>51223.978</td>\n",
       "      <td>7763.07</td>\n",
       "      <td>100</td>\n",
       "      <td>0</td>\n",
       "      <td>True</td>\n",
       "      <td>level_2</td>\n",
       "      <td>Promotion</td>\n",
       "    </tr>\n",
       "    <tr>\n",
       "      <th>45</th>\n",
       "      <td>SK10209</td>\n",
       "      <td>3</td>\n",
       "      <td>7</td>\n",
       "      <td>23630.302</td>\n",
       "      <td>30068.13</td>\n",
       "      <td>92</td>\n",
       "      <td>7</td>\n",
       "      <td>True</td>\n",
       "      <td>level_2</td>\n",
       "      <td>Retention</td>\n",
       "    </tr>\n",
       "  </tbody>\n",
       "</table>\n",
       "</div>"
      ],
      "text/plain": [
       "     Skcode  nooforder  noofbrand  Totalvolume  KKvolume  \\\n",
       "7   SK10044         24         29   239042.063    838.20   \n",
       "25  SK10121          3          5    19956.880      0.00   \n",
       "27  SK10150          4         36    45946.964      0.00   \n",
       "43  SK10202          4         23    51223.978   7763.07   \n",
       "45  SK10209          3          7    23630.302  30068.13   \n",
       "\n",
       "    SalesPersonPercentageorder  SelforderPercentage  active   levels  \\\n",
       "7                           97                    2    True  level_2   \n",
       "25                         100                    0    True  level_2   \n",
       "27                           0                  100    True  level_2   \n",
       "43                         100                    0    True  level_2   \n",
       "45                          92                    7    True  level_2   \n",
       "\n",
       "        State  \n",
       "7   Promotion  \n",
       "25  Retention  \n",
       "27  Promotion  \n",
       "43  Promotion  \n",
       "45  Retention  "
      ]
     },
     "execution_count": 113,
     "metadata": {},
     "output_type": "execute_result"
    }
   ],
   "source": [
    "df_level2.loc[df_level2.Totalvolume >= avg_level2, 'State'] = 'Promotion'\n",
    "df_level2.loc[df_level2.Totalvolume < avg_level2, 'State'] = 'Retention'\n",
    "\n",
    "df_level2.head()"
   ]
  },
  {
   "cell_type": "code",
   "execution_count": null,
   "metadata": {},
   "outputs": [],
   "source": []
  },
  {
   "cell_type": "code",
   "execution_count": null,
   "metadata": {},
   "outputs": [],
   "source": []
  },
  {
   "cell_type": "code",
   "execution_count": 114,
   "metadata": {},
   "outputs": [
    {
     "data": {
      "text/plain": [
       "86804.43541666665"
      ]
     },
     "execution_count": 114,
     "metadata": {},
     "output_type": "execute_result"
    }
   ],
   "source": [
    "avg_level3= df_level3['Totalvolume'].mean()\n",
    "avg_level3"
   ]
  },
  {
   "cell_type": "code",
   "execution_count": 115,
   "metadata": {},
   "outputs": [
    {
     "data": {
      "text/html": [
       "<div>\n",
       "<style scoped>\n",
       "    .dataframe tbody tr th:only-of-type {\n",
       "        vertical-align: middle;\n",
       "    }\n",
       "\n",
       "    .dataframe tbody tr th {\n",
       "        vertical-align: top;\n",
       "    }\n",
       "\n",
       "    .dataframe thead th {\n",
       "        text-align: right;\n",
       "    }\n",
       "</style>\n",
       "<table border=\"1\" class=\"dataframe\">\n",
       "  <thead>\n",
       "    <tr style=\"text-align: right;\">\n",
       "      <th></th>\n",
       "      <th>Skcode</th>\n",
       "      <th>nooforder</th>\n",
       "      <th>noofbrand</th>\n",
       "      <th>Totalvolume</th>\n",
       "      <th>KKvolume</th>\n",
       "      <th>SalesPersonPercentageorder</th>\n",
       "      <th>SelforderPercentage</th>\n",
       "      <th>active</th>\n",
       "      <th>levels</th>\n",
       "      <th>State</th>\n",
       "    </tr>\n",
       "  </thead>\n",
       "  <tbody>\n",
       "    <tr>\n",
       "      <th>29</th>\n",
       "      <td>SK10154</td>\n",
       "      <td>8</td>\n",
       "      <td>11</td>\n",
       "      <td>83766.181</td>\n",
       "      <td>5486.25</td>\n",
       "      <td>80</td>\n",
       "      <td>19</td>\n",
       "      <td>True</td>\n",
       "      <td>level_3</td>\n",
       "      <td>Retention</td>\n",
       "    </tr>\n",
       "    <tr>\n",
       "      <th>85</th>\n",
       "      <td>SK10427</td>\n",
       "      <td>7</td>\n",
       "      <td>12</td>\n",
       "      <td>28547.754</td>\n",
       "      <td>5486.25</td>\n",
       "      <td>88</td>\n",
       "      <td>11</td>\n",
       "      <td>True</td>\n",
       "      <td>level_3</td>\n",
       "      <td>Retention</td>\n",
       "    </tr>\n",
       "    <tr>\n",
       "      <th>208</th>\n",
       "      <td>SK14040</td>\n",
       "      <td>9</td>\n",
       "      <td>18</td>\n",
       "      <td>91358.418</td>\n",
       "      <td>2292.84</td>\n",
       "      <td>87</td>\n",
       "      <td>12</td>\n",
       "      <td>True</td>\n",
       "      <td>level_3</td>\n",
       "      <td>Promotion</td>\n",
       "    </tr>\n",
       "    <tr>\n",
       "      <th>1115</th>\n",
       "      <td>SK19080</td>\n",
       "      <td>12</td>\n",
       "      <td>11</td>\n",
       "      <td>143462.461</td>\n",
       "      <td>31671.00</td>\n",
       "      <td>47</td>\n",
       "      <td>52</td>\n",
       "      <td>True</td>\n",
       "      <td>level_3</td>\n",
       "      <td>Promotion</td>\n",
       "    </tr>\n",
       "    <tr>\n",
       "      <th>1734</th>\n",
       "      <td>SK20678</td>\n",
       "      <td>14</td>\n",
       "      <td>21</td>\n",
       "      <td>308749.926</td>\n",
       "      <td>38615.10</td>\n",
       "      <td>2</td>\n",
       "      <td>97</td>\n",
       "      <td>True</td>\n",
       "      <td>level_3</td>\n",
       "      <td>Promotion</td>\n",
       "    </tr>\n",
       "  </tbody>\n",
       "</table>\n",
       "</div>"
      ],
      "text/plain": [
       "       Skcode  nooforder  noofbrand  Totalvolume  KKvolume  \\\n",
       "29    SK10154          8         11    83766.181   5486.25   \n",
       "85    SK10427          7         12    28547.754   5486.25   \n",
       "208   SK14040          9         18    91358.418   2292.84   \n",
       "1115  SK19080         12         11   143462.461  31671.00   \n",
       "1734  SK20678         14         21   308749.926  38615.10   \n",
       "\n",
       "      SalesPersonPercentageorder  SelforderPercentage  active   levels  \\\n",
       "29                            80                   19    True  level_3   \n",
       "85                            88                   11    True  level_3   \n",
       "208                           87                   12    True  level_3   \n",
       "1115                          47                   52    True  level_3   \n",
       "1734                           2                   97    True  level_3   \n",
       "\n",
       "          State  \n",
       "29    Retention  \n",
       "85    Retention  \n",
       "208   Promotion  \n",
       "1115  Promotion  \n",
       "1734  Promotion  "
      ]
     },
     "execution_count": 115,
     "metadata": {},
     "output_type": "execute_result"
    }
   ],
   "source": [
    "df_level3.loc[df_level3.Totalvolume >= avg_level3, 'State'] = 'Promotion'\n",
    "df_level3.loc[df_level3.Totalvolume < avg_level3, 'State'] = 'Retention'\n",
    "\n",
    "df_level3.head()"
   ]
  },
  {
   "cell_type": "code",
   "execution_count": null,
   "metadata": {},
   "outputs": [],
   "source": []
  },
  {
   "cell_type": "code",
   "execution_count": 116,
   "metadata": {},
   "outputs": [
    {
     "data": {
      "text/plain": [
       "333606.2497500001"
      ]
     },
     "execution_count": 116,
     "metadata": {},
     "output_type": "execute_result"
    }
   ],
   "source": [
    "avg_level4= df_level4['Totalvolume'].mean()\n",
    "avg_level4"
   ]
  },
  {
   "cell_type": "code",
   "execution_count": 117,
   "metadata": {},
   "outputs": [
    {
     "data": {
      "text/html": [
       "<div>\n",
       "<style scoped>\n",
       "    .dataframe tbody tr th:only-of-type {\n",
       "        vertical-align: middle;\n",
       "    }\n",
       "\n",
       "    .dataframe tbody tr th {\n",
       "        vertical-align: top;\n",
       "    }\n",
       "\n",
       "    .dataframe thead th {\n",
       "        text-align: right;\n",
       "    }\n",
       "</style>\n",
       "<table border=\"1\" class=\"dataframe\">\n",
       "  <thead>\n",
       "    <tr style=\"text-align: right;\">\n",
       "      <th></th>\n",
       "      <th>Skcode</th>\n",
       "      <th>nooforder</th>\n",
       "      <th>noofbrand</th>\n",
       "      <th>Totalvolume</th>\n",
       "      <th>KKvolume</th>\n",
       "      <th>SalesPersonPercentageorder</th>\n",
       "      <th>SelforderPercentage</th>\n",
       "      <th>active</th>\n",
       "      <th>levels</th>\n",
       "      <th>State</th>\n",
       "    </tr>\n",
       "  </thead>\n",
       "  <tbody>\n",
       "    <tr>\n",
       "      <th>3051</th>\n",
       "      <td>SK7510</td>\n",
       "      <td>14</td>\n",
       "      <td>30</td>\n",
       "      <td>511675.758</td>\n",
       "      <td>29051.500</td>\n",
       "      <td>98</td>\n",
       "      <td>1</td>\n",
       "      <td>True</td>\n",
       "      <td>level_4</td>\n",
       "      <td>Promotion</td>\n",
       "    </tr>\n",
       "    <tr>\n",
       "      <th>3322</th>\n",
       "      <td>SK7906</td>\n",
       "      <td>11</td>\n",
       "      <td>31</td>\n",
       "      <td>184416.300</td>\n",
       "      <td>9420.300</td>\n",
       "      <td>95</td>\n",
       "      <td>4</td>\n",
       "      <td>True</td>\n",
       "      <td>level_4</td>\n",
       "      <td>Retention</td>\n",
       "    </tr>\n",
       "    <tr>\n",
       "      <th>4070</th>\n",
       "      <td>SK8856</td>\n",
       "      <td>16</td>\n",
       "      <td>32</td>\n",
       "      <td>116841.532</td>\n",
       "      <td>12599.550</td>\n",
       "      <td>38</td>\n",
       "      <td>61</td>\n",
       "      <td>True</td>\n",
       "      <td>level_4</td>\n",
       "      <td>Retention</td>\n",
       "    </tr>\n",
       "    <tr>\n",
       "      <th>4209</th>\n",
       "      <td>SK9614</td>\n",
       "      <td>45</td>\n",
       "      <td>32</td>\n",
       "      <td>521491.409</td>\n",
       "      <td>99002.855</td>\n",
       "      <td>75</td>\n",
       "      <td>24</td>\n",
       "      <td>True</td>\n",
       "      <td>level_4</td>\n",
       "      <td>Promotion</td>\n",
       "    </tr>\n",
       "  </tbody>\n",
       "</table>\n",
       "</div>"
      ],
      "text/plain": [
       "      Skcode  nooforder  noofbrand  Totalvolume   KKvolume  \\\n",
       "3051  SK7510         14         30   511675.758  29051.500   \n",
       "3322  SK7906         11         31   184416.300   9420.300   \n",
       "4070  SK8856         16         32   116841.532  12599.550   \n",
       "4209  SK9614         45         32   521491.409  99002.855   \n",
       "\n",
       "      SalesPersonPercentageorder  SelforderPercentage  active   levels  \\\n",
       "3051                          98                    1    True  level_4   \n",
       "3322                          95                    4    True  level_4   \n",
       "4070                          38                   61    True  level_4   \n",
       "4209                          75                   24    True  level_4   \n",
       "\n",
       "          State  \n",
       "3051  Promotion  \n",
       "3322  Retention  \n",
       "4070  Retention  \n",
       "4209  Promotion  "
      ]
     },
     "execution_count": 117,
     "metadata": {},
     "output_type": "execute_result"
    }
   ],
   "source": [
    "df_level4.loc[df_level4.Totalvolume >= avg_level4, 'State'] = 'Promotion'\n",
    "df_level4.loc[df_level4.Totalvolume < avg_level4, 'State'] = 'Retention'\n",
    "\n",
    "df_level4"
   ]
  },
  {
   "cell_type": "code",
   "execution_count": null,
   "metadata": {},
   "outputs": [],
   "source": []
  },
  {
   "cell_type": "code",
   "execution_count": null,
   "metadata": {},
   "outputs": [],
   "source": []
  },
  {
   "cell_type": "code",
   "execution_count": null,
   "metadata": {},
   "outputs": [],
   "source": []
  },
  {
   "cell_type": "code",
   "execution_count": null,
   "metadata": {},
   "outputs": [],
   "source": []
  },
  {
   "cell_type": "code",
   "execution_count": null,
   "metadata": {},
   "outputs": [],
   "source": []
  },
  {
   "cell_type": "code",
   "execution_count": null,
   "metadata": {},
   "outputs": [],
   "source": []
  },
  {
   "cell_type": "code",
   "execution_count": null,
   "metadata": {},
   "outputs": [],
   "source": []
  },
  {
   "cell_type": "markdown",
   "metadata": {},
   "source": [
    "## customer lifetime value"
   ]
  },
  {
   "cell_type": "code",
   "execution_count": null,
   "metadata": {},
   "outputs": [],
   "source": []
  },
  {
   "cell_type": "code",
   "execution_count": 118,
   "metadata": {},
   "outputs": [],
   "source": [
    "##  customer lifetime value = (AverageOrderValue) * (NumberOfRepeatSales) * (AverageCustomerLifeSpan)"
   ]
  },
  {
   "cell_type": "code",
   "execution_count": 119,
   "metadata": {},
   "outputs": [
    {
     "data": {
      "text/html": [
       "<div>\n",
       "<style scoped>\n",
       "    .dataframe tbody tr th:only-of-type {\n",
       "        vertical-align: middle;\n",
       "    }\n",
       "\n",
       "    .dataframe tbody tr th {\n",
       "        vertical-align: top;\n",
       "    }\n",
       "\n",
       "    .dataframe thead th {\n",
       "        text-align: right;\n",
       "    }\n",
       "</style>\n",
       "<table border=\"1\" class=\"dataframe\">\n",
       "  <thead>\n",
       "    <tr style=\"text-align: right;\">\n",
       "      <th></th>\n",
       "      <th>Skcode</th>\n",
       "      <th>nooforder</th>\n",
       "      <th>noofbrand</th>\n",
       "      <th>Totalvolume</th>\n",
       "      <th>KKvolume</th>\n",
       "      <th>SalesPersonPercentageorder</th>\n",
       "      <th>SelforderPercentage</th>\n",
       "      <th>active</th>\n",
       "      <th>levels</th>\n",
       "    </tr>\n",
       "  </thead>\n",
       "  <tbody>\n",
       "    <tr>\n",
       "      <th>0</th>\n",
       "      <td>SK10009</td>\n",
       "      <td>0</td>\n",
       "      <td>0</td>\n",
       "      <td>0.000</td>\n",
       "      <td>0.0</td>\n",
       "      <td>0</td>\n",
       "      <td>0</td>\n",
       "      <td>True</td>\n",
       "      <td>level_0</td>\n",
       "    </tr>\n",
       "    <tr>\n",
       "      <th>1</th>\n",
       "      <td>SK10021</td>\n",
       "      <td>0</td>\n",
       "      <td>0</td>\n",
       "      <td>0.000</td>\n",
       "      <td>0.0</td>\n",
       "      <td>0</td>\n",
       "      <td>0</td>\n",
       "      <td>True</td>\n",
       "      <td>level_0</td>\n",
       "    </tr>\n",
       "    <tr>\n",
       "      <th>2</th>\n",
       "      <td>SK10030</td>\n",
       "      <td>1</td>\n",
       "      <td>9</td>\n",
       "      <td>10586.018</td>\n",
       "      <td>0.0</td>\n",
       "      <td>100</td>\n",
       "      <td>0</td>\n",
       "      <td>True</td>\n",
       "      <td>level_1</td>\n",
       "    </tr>\n",
       "    <tr>\n",
       "      <th>3</th>\n",
       "      <td>SK10037</td>\n",
       "      <td>1</td>\n",
       "      <td>7</td>\n",
       "      <td>14460.112</td>\n",
       "      <td>0.0</td>\n",
       "      <td>100</td>\n",
       "      <td>0</td>\n",
       "      <td>True</td>\n",
       "      <td>level_1</td>\n",
       "    </tr>\n",
       "    <tr>\n",
       "      <th>4</th>\n",
       "      <td>SK10041</td>\n",
       "      <td>0</td>\n",
       "      <td>0</td>\n",
       "      <td>0.000</td>\n",
       "      <td>0.0</td>\n",
       "      <td>0</td>\n",
       "      <td>0</td>\n",
       "      <td>True</td>\n",
       "      <td>level_0</td>\n",
       "    </tr>\n",
       "  </tbody>\n",
       "</table>\n",
       "</div>"
      ],
      "text/plain": [
       "    Skcode  nooforder  noofbrand  Totalvolume  KKvolume  \\\n",
       "0  SK10009          0          0        0.000       0.0   \n",
       "1  SK10021          0          0        0.000       0.0   \n",
       "2  SK10030          1          9    10586.018       0.0   \n",
       "3  SK10037          1          7    14460.112       0.0   \n",
       "4  SK10041          0          0        0.000       0.0   \n",
       "\n",
       "   SalesPersonPercentageorder  SelforderPercentage  active   levels  \n",
       "0                           0                    0    True  level_0  \n",
       "1                           0                    0    True  level_0  \n",
       "2                         100                    0    True  level_1  \n",
       "3                         100                    0    True  level_1  \n",
       "4                           0                    0    True  level_0  "
      ]
     },
     "execution_count": 119,
     "metadata": {},
     "output_type": "execute_result"
    }
   ],
   "source": [
    "df.head()"
   ]
  },
  {
   "cell_type": "code",
   "execution_count": null,
   "metadata": {},
   "outputs": [],
   "source": []
  },
  {
   "cell_type": "code",
   "execution_count": null,
   "metadata": {},
   "outputs": [],
   "source": []
  },
  {
   "cell_type": "code",
   "execution_count": null,
   "metadata": {},
   "outputs": [],
   "source": []
  },
  {
   "cell_type": "code",
   "execution_count": null,
   "metadata": {},
   "outputs": [],
   "source": []
  },
  {
   "cell_type": "code",
   "execution_count": null,
   "metadata": {},
   "outputs": [],
   "source": []
  },
  {
   "cell_type": "code",
   "execution_count": null,
   "metadata": {},
   "outputs": [],
   "source": []
  },
  {
   "cell_type": "code",
   "execution_count": null,
   "metadata": {},
   "outputs": [],
   "source": []
  },
  {
   "cell_type": "code",
   "execution_count": null,
   "metadata": {},
   "outputs": [],
   "source": []
  },
  {
   "cell_type": "code",
   "execution_count": null,
   "metadata": {},
   "outputs": [],
   "source": []
  },
  {
   "cell_type": "code",
   "execution_count": null,
   "metadata": {},
   "outputs": [],
   "source": []
  },
  {
   "cell_type": "code",
   "execution_count": null,
   "metadata": {},
   "outputs": [],
   "source": []
  },
  {
   "cell_type": "code",
   "execution_count": null,
   "metadata": {},
   "outputs": [],
   "source": []
  },
  {
   "cell_type": "markdown",
   "metadata": {},
   "source": [
    " ## Minimizer"
   ]
  },
  {
   "cell_type": "code",
   "execution_count": 120,
   "metadata": {},
   "outputs": [],
   "source": [
    "import scipy.optimize as spo\n",
    "import numpy as np"
   ]
  },
  {
   "cell_type": "code",
   "execution_count": 121,
   "metadata": {},
   "outputs": [],
   "source": [
    "def f(x):\n",
    "    y=(x-1.5)**2 + 0.5\n",
    "    print(\"x={}, y={}\".format(x,y))\n",
    "    return y\n",
    "\n"
   ]
  },
  {
   "cell_type": "code",
   "execution_count": 122,
   "metadata": {},
   "outputs": [],
   "source": [
    "def test_run():\n",
    "    xguess = 2.0\n",
    "    min_result = spo.minimize(f,xguess,method='SLSQP',options={'disp':True})\n",
    "    print(\"Minima found at: \")\n",
    "    print(\"x = {}, y = {}\".format(min_result.x,min_result.fun))\n",
    "    \n",
    "    #plot function values, mark minima\n",
    "    xplot = np.linspace(0.5,2.5,21)\n",
    "    yplot = f(xplot)\n",
    "    plt.plot(xplot,yplot)\n",
    "    plt.plot(min_result.x,min_result.fun,'ro')\n",
    "    plt.title(\"Minima of an objective function\")\n",
    "    plt.show()"
   ]
  },
  {
   "cell_type": "code",
   "execution_count": 123,
   "metadata": {},
   "outputs": [
    {
     "name": "stdout",
     "output_type": "stream",
     "text": [
      "x=[2.], y=[0.75]\n",
      "x=[2.], y=[0.75]\n",
      "x=[2.00000001], y=[0.75000001]\n",
      "x=[0.99999999], y=[0.75000001]\n",
      "x=[1.5], y=[0.5]\n",
      "x=[1.5], y=[0.5]\n",
      "x=[1.50000001], y=[0.5]\n",
      "Optimization terminated successfully.    (Exit mode 0)\n",
      "            Current function value: 0.5\n",
      "            Iterations: 2\n",
      "            Function evaluations: 7\n",
      "            Gradient evaluations: 2\n",
      "Minima found at: \n",
      "x = [1.5], y = 0.5\n",
      "x=[0.5 0.6 0.7 0.8 0.9 1.  1.1 1.2 1.3 1.4 1.5 1.6 1.7 1.8 1.9 2.  2.1 2.2\n",
      " 2.3 2.4 2.5], y=[1.5  1.31 1.14 0.99 0.86 0.75 0.66 0.59 0.54 0.51 0.5  0.51 0.54 0.59\n",
      " 0.66 0.75 0.86 0.99 1.14 1.31 1.5 ]\n"
     ]
    },
    {
     "data": {
      "image/png": "[encoded data removed]",
      "text/plain": [
       "<Figure size 432x288 with 1 Axes>"
      ]
     },
     "metadata": {
      "needs_background": "light"
     },
     "output_type": "display_data"
    }
   ],
   "source": [
    "if __name__ == \"__main__\":\n",
    "    test_run()\n",
    "    "
   ]
  },
  {
   "cell_type": "code",
   "execution_count": null,
   "metadata": {},
   "outputs": [],
   "source": [
    "\n"
   ]
  },
  {
   "cell_type": "code",
   "execution_count": null,
   "metadata": {},
   "outputs": [],
   "source": []
  },
  {
   "cell_type": "code",
   "execution_count": null,
   "metadata": {},
   "outputs": [],
   "source": []
  },
  {
   "cell_type": "code",
   "execution_count": null,
   "metadata": {},
   "outputs": [],
   "source": []
  },
  {
   "cell_type": "code",
   "execution_count": 124,
   "metadata": {},
   "outputs": [],
   "source": [
    "# NORMALISATION\n",
    "\n",
    "# level2_allocation['Totalvolume']=level2_allocation['Totalvolume']/max\n"
   ]
  },
  {
   "cell_type": "code",
   "execution_count": null,
   "metadata": {},
   "outputs": [],
   "source": []
  },
  {
   "cell_type": "code",
   "execution_count": null,
   "metadata": {},
   "outputs": [],
   "source": []
  },
  {
   "cell_type": "code",
   "execution_count": null,
   "metadata": {},
   "outputs": [],
   "source": []
  },
  {
   "cell_type": "code",
   "execution_count": null,
   "metadata": {},
   "outputs": [],
   "source": []
  },
  {
   "cell_type": "code",
   "execution_count": null,
   "metadata": {},
   "outputs": [],
   "source": []
  },
  {
   "cell_type": "code",
   "execution_count": null,
   "metadata": {},
   "outputs": [],
   "source": []
  },
  {
   "cell_type": "code",
   "execution_count": null,
   "metadata": {},
   "outputs": [],
   "source": []
  },
  {
   "cell_type": "code",
   "execution_count": null,
   "metadata": {},
   "outputs": [],
   "source": []
  },
  {
   "cell_type": "code",
   "execution_count": null,
   "metadata": {},
   "outputs": [],
   "source": []
  },
  {
   "cell_type": "code",
   "execution_count": null,
   "metadata": {},
   "outputs": [],
   "source": []
  },
  {
   "cell_type": "code",
   "execution_count": null,
   "metadata": {},
   "outputs": [],
   "source": []
  },
  {
   "cell_type": "code",
   "execution_count": null,
   "metadata": {},
   "outputs": [],
   "source": []
  },
  {
   "cell_type": "code",
   "execution_count": null,
   "metadata": {},
   "outputs": [],
   "source": []
  },
  {
   "cell_type": "code",
   "execution_count": null,
   "metadata": {},
   "outputs": [],
   "source": []
  },
  {
   "cell_type": "code",
   "execution_count": null,
   "metadata": {},
   "outputs": [],
   "source": []
  },
  {
   "cell_type": "code",
   "execution_count": null,
   "metadata": {},
   "outputs": [],
   "source": []
  },
  {
   "cell_type": "code",
   "execution_count": null,
   "metadata": {},
   "outputs": [],
   "source": []
  },
  {
   "cell_type": "code",
   "execution_count": null,
   "metadata": {},
   "outputs": [],
   "source": []
  },
  {
   "cell_type": "code",
   "execution_count": null,
   "metadata": {},
   "outputs": [],
   "source": []
  },
  {
   "cell_type": "code",
   "execution_count": null,
   "metadata": {},
   "outputs": [],
   "source": []
  },
  {
   "cell_type": "code",
   "execution_count": null,
   "metadata": {},
   "outputs": [],
   "source": []
  },
  {
   "cell_type": "code",
   "execution_count": null,
   "metadata": {},
   "outputs": [],
   "source": []
  },
  {
   "cell_type": "code",
   "execution_count": null,
   "metadata": {},
   "outputs": [],
   "source": []
  },
  {
   "cell_type": "code",
   "execution_count": null,
   "metadata": {},
   "outputs": [],
   "source": []
  },
  {
   "cell_type": "code",
   "execution_count": null,
   "metadata": {},
   "outputs": [],
   "source": []
  },
  {
   "cell_type": "code",
   "execution_count": null,
   "metadata": {},
   "outputs": [],
   "source": []
  },
  {
   "cell_type": "code",
   "execution_count": null,
   "metadata": {},
   "outputs": [],
   "source": []
  },
  {
   "cell_type": "code",
   "execution_count": null,
   "metadata": {},
   "outputs": [],
   "source": []
  },
  {
   "cell_type": "code",
   "execution_count": null,
   "metadata": {},
   "outputs": [],
   "source": []
  },
  {
   "cell_type": "code",
   "execution_count": null,
   "metadata": {},
   "outputs": [],
   "source": []
  },
  {
   "cell_type": "code",
   "execution_count": null,
   "metadata": {},
   "outputs": [],
   "source": []
  },
  {
   "cell_type": "code",
   "execution_count": null,
   "metadata": {},
   "outputs": [],
   "source": []
  },
  {
   "cell_type": "code",
   "execution_count": null,
   "metadata": {},
   "outputs": [],
   "source": []
  }
 ],
 "metadata": {
  "kernelspec": {
   "display_name": "Python 3",
   "language": "python",
   "name": "python3"
  },
  "language_info": {
   "codemirror_mode": {
    "name": "ipython",
    "version": 3
   },
   "file_extension": ".py",
   "mimetype": "text/x-python",
   "name": "python",
   "nbconvert_exporter": "python",
   "pygments_lexer": "ipython3",
   "version": "3.7.4"
  }
 },
 "nbformat": 4,
 "nbformat_minor": 4
}
